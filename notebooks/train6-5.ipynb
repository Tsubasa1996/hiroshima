{
 "cells": [
  {
   "cell_type": "markdown",
   "id": "e8f02772-0ccd-4bc3-889e-edaef5c6f8af",
   "metadata": {},
   "source": [
    "6年分のデータを使ってKfoldを実装していく"
   ]
  },
  {
   "cell_type": "code",
   "execution_count": 1,
   "id": "7b314340-9891-4603-9ae1-24eb882db723",
   "metadata": {},
   "outputs": [
    {
     "name": "stdout",
     "output_type": "stream",
     "text": [
      "\u001b[33mWARNING: Running pip as the 'root' user can result in broken permissions and conflicting behaviour with the system package manager. It is recommended to use a virtual environment instead: https://pip.pypa.io/warnings/venv\u001b[0m\u001b[33m\n",
      "\u001b[0m"
     ]
    }
   ],
   "source": [
    "!pip install lightgbm -q"
   ]
  },
  {
   "cell_type": "code",
   "execution_count": 2,
   "id": "879d7c43-8b28-4b87-8405-2bc7f0e2c39a",
   "metadata": {
    "tags": []
   },
   "outputs": [],
   "source": [
    "import pandas as pd\n",
    "import numpy as np\n",
    "import warnings\n",
    "warnings.simplefilter('ignore')\n",
    "\n",
    "from sklearn.preprocessing import LabelEncoder\n",
    "import lightgbm as lgb"
   ]
  },
  {
   "cell_type": "code",
   "execution_count": 3,
   "id": "8ee3620b-4da0-42a6-ac37-403d16d79567",
   "metadata": {
    "tags": []
   },
   "outputs": [
    {
     "name": "stdout",
     "output_type": "stream",
     "text": [
      "[43 43 43 ...  1  1  1]\n"
     ]
    }
   ],
   "source": [
    "#df = pd.read_csv(\"../data/process-data/train4-修正済み2.csv\")\n",
    "# 異常値修正後\n",
    "df = pd.read_csv(\"../data/process-data/train4-修正済み3.csv\")\n",
    "\n",
    "# 水位の特徴量\n",
    "\n",
    "\n",
    "df_water1 = pd.read_csv(\"../data/process-data/water-process-label1-v1-修正済み3.csv\")\n",
    "df_water0 = pd.read_csv(\"../data/process-data/water-process-label0-v1-修正済み3.csv\")\n",
    "\n",
    "# 潮位ラベルや水位観測所に対応した雨量観測所の情報をまとめたもの\n",
    "df_label = pd.read_excel('../data/process-data/雨量観測所対応and潮位ラベル.xlsx')\n",
    "\n",
    "\n",
    "# 雨量追加フラグ\n",
    "if True:\n",
    "    # 潮位ラベル結合\n",
    "    df_water1 = pd.merge(df_water1, df_label, left_on=\"station\", right_on=\"水位観測所\", how=\"left\")\n",
    "    df_water1 = df_water1.drop('水位観測所',axis=1)\n",
    "    df_water0 = pd.merge(df_water0, df_label, left_on=\"station\", right_on=\"水位観測所\", how=\"left\")\n",
    "    df_water0 = df_water0.drop('水位観測所',axis=1)\n",
    "    \n",
    "    \n",
    "    df_rain = pd.read_csv(\"../data/process-data/rain-process-easy-per3h.csv\")\n",
    "    \n",
    "    d = {}\n",
    "    for column in df_rain.columns:\n",
    "        if column not in [\"date\", \"city\"]:\n",
    "            d[column] = column+\"_rain\"\n",
    "    df_rain = df_rain.rename(d,axis=1)\n",
    "    \n",
    "    df_water1 = pd.merge(df_water1, df_rain, left_on=[\"date\", \"使用する雨量観測所\"], right_on=[\"date\", \"station_rain\"], how=\"left\")\n",
    "    df_water1 = df_water1.drop(columns=['使用する雨量観測所', \"潮位ラベル\", \"station_rain\",\"city\"])\n",
    "    df_water0 = pd.merge(df_water0, df_rain, left_on=[\"date\", \"使用する雨量観測所\"], right_on=[\"date\", \"station_rain\"], how=\"left\")\n",
    "    df_water0 = df_water0.drop(columns=['使用する雨量観測所', \"潮位ラベル\", \"station_rain\",\"city\"])\n",
    "\n",
    "\n",
    "# カテゴリ化\n",
    "le = LabelEncoder()\n",
    "le.fit(df[\"station\"])\n",
    "# array([43, 43, 43, ...,  1,  1,  1])\n",
    "print(le.transform(df[\"station\"]))\n",
    "df[\"station_c\"] = le.transform(df[\"station\"])\n",
    "# np.save('../classes-station-166-v2.npy', le.classes_)    \n",
    "\n",
    "# これを学習用に使う\n",
    "df = df.drop(columns=[\"water level\"])\n",
    "df1 = df[df[\"station\"].isin(list(df_label[df_label[\"潮位ラベル\"]==1][\"水位観測所\"]))]\n",
    "df0 = df[df[\"station\"].isin(list(df_label[df_label[\"潮位ラベル\"]==0][\"水位観測所\"]))]\n",
    "df1 = pd.merge(df1, df_water1, on=[\"date\", \"station\", \"river\"], how=\"left\")\n",
    "df0 = pd.merge(df0, df_water0, on=[\"date\", \"station\", \"river\"], how=\"left\")"
   ]
  },
  {
   "cell_type": "markdown",
   "id": "bd5e2668-d5ea-4056-8c26-48ff517a8bc9",
   "metadata": {},
   "source": [
    "```\n",
    "0~364,365~729,730~1094,1095~1460,1461~1825,1826~2190で、前半5つの内4つを学習、残りを検証用に回す  \n",
    "k=0は4.1で作ったモデルとする\n",
    "```"
   ]
  },
  {
   "cell_type": "code",
   "execution_count": 4,
   "id": "3976bdc6-164c-49ae-9873-063accd957ab",
   "metadata": {
    "tags": []
   },
   "outputs": [
    {
     "data": {
      "text/plain": [
       " 0    80957\n",
       " 1    65198\n",
       " 2    60116\n",
       " 4    59849\n",
       "-1    59636\n",
       " 3    46620\n",
       "Name: fold, dtype: int64"
      ]
     },
     "execution_count": 4,
     "metadata": {},
     "output_type": "execute_result"
    }
   ],
   "source": [
    "def make_fold(x):\n",
    "    if x <= 364:\n",
    "        return 4\n",
    "    elif x <= 729:\n",
    "        return 3\n",
    "    elif x <= 1094:\n",
    "        return 2\n",
    "    elif x <= 1460:\n",
    "        return 1\n",
    "    elif x <= 1825:\n",
    "        return 0\n",
    "    else:\n",
    "        return -1\n",
    "df1[\"fold\"] = df1[\"date\"].apply(lambda x : make_fold(x))\n",
    "df0[\"fold\"] = df0[\"date\"].apply(lambda x : make_fold(x))\n",
    "df1[\"fold\"].value_counts()"
   ]
  },
  {
   "cell_type": "markdown",
   "id": "dcf803c2-e09a-441a-902d-7c24f1425304",
   "metadata": {
    "jp-MarkdownHeadingCollapsed": true,
    "tags": []
   },
   "source": [
    "### 潮位ラベル1"
   ]
  },
  {
   "cell_type": "code",
   "execution_count": 6,
   "id": "fae1183b-0d24-4a59-953b-85e944449c43",
   "metadata": {
    "tags": []
   },
   "outputs": [
    {
     "name": "stdout",
     "output_type": "stream",
     "text": [
      "['hour_sin', 'hour_cos', 'station_c', 'h-0', 'h-1', 'h-2', 'h-3', 'h-4', 'h-5', 'h-6', 'h-7', 'h-8', 'h-9', 'h-10', 'h-11', 'h-12', 'h-13', 'h-14', 'h-15', 'h-16', 'h-17', 'h-18', 'h-19', 'h-20', 'h-21', 'h-22', 'h-23', 'mean', 'max', 'min', 'std', 'nullcount', '0-12mean', '12-24mean', 'h-0_1d_ago', 'h-1_1d_ago', 'h-2_1d_ago', 'h-3_1d_ago', 'h-4_1d_ago', 'h-5_1d_ago', 'h-6_1d_ago', 'h-7_1d_ago', 'h-8_1d_ago', 'h-9_1d_ago', 'h-10_1d_ago', 'h-11_1d_ago', 'h-12_1d_ago', 'h-13_1d_ago', 'h-14_1d_ago', 'h-15_1d_ago', 'h-16_1d_ago', 'h-17_1d_ago', 'h-18_1d_ago', 'h-19_1d_ago', 'h-20_1d_ago', 'h-21_1d_ago', 'h-22_1d_ago', 'h-23_1d_ago', 'mean_1d_ago', 'max_1d_ago', 'min_1d_ago', 'std_1d_ago', 'nullcount_1d_ago', '0-12mean_1d_ago', '12-24mean_1d_ago', 'mean_2d_ago', 'max_2d_ago', 'min_2d_ago', 'std_2d_ago', 'nullcount_2d_ago', '0-12mean_2d_ago', '12-24mean_2d_ago', 'mean_3d_ago', 'max_3d_ago', 'min_3d_ago', 'std_3d_ago', 'nullcount_3d_ago', '0-12mean_3d_ago', '12-24mean_3d_ago', 'mean_4d_ago', 'nullcount_4d_ago', 'mean_5d_ago', 'nullcount_5d_ago', 'std_14d_ago', 'nullcount_14d_ago', 'std_15d_ago', 'nullcount_15d_ago', 'std_16d_ago', 'nullcount_16d_ago', '12-14-mean_rain', '12-14-max_rain', '15-17-mean_rain', '15-17-max_rain', '18-20-mean_rain', '18-20-max_rain', '21-23-mean_rain', '21-23-max_rain', 'mean_rain', 'mean_1d_ago_rain', 'mean_2d_ago_rain']\n"
     ]
    }
   ],
   "source": [
    "train_col = []\n",
    "categorical_col = [\"station_c\"]\n",
    "for col in df1.columns:\n",
    "    if col not in [\"date\", \"station\", \"river\", \"hour\", \"next water level\",\"fold\"]:\n",
    "            train_col.append(col)\n",
    "else:\n",
    "    print(train_col)"
   ]
  },
  {
   "cell_type": "markdown",
   "id": "61d7b521-d9fe-4deb-8105-8a25c9c97541",
   "metadata": {
    "jp-MarkdownHeadingCollapsed": true,
    "tags": []
   },
   "source": [
    "#### k=-1\n",
    "作成済み"
   ]
  },
  {
   "cell_type": "markdown",
   "id": "85c8a1d7-cfba-4909-9b81-a5c06945be10",
   "metadata": {
    "jp-MarkdownHeadingCollapsed": true,
    "tags": []
   },
   "source": [
    "#### k=0"
   ]
  },
  {
   "cell_type": "code",
   "execution_count": 7,
   "id": "f1dcb8fd-9683-488d-9fcc-9c22a435aa29",
   "metadata": {
    "tags": []
   },
   "outputs": [
    {
     "name": "stdout",
     "output_type": "stream",
     "text": [
      "(291419, 100)\n",
      "(80957, 100)\n"
     ]
    }
   ],
   "source": [
    "fold=0\n",
    "# 5年、1年\n",
    "df_train_x = df1[df1[\"fold\"]!=fold][train_col]\n",
    "df_valid_x = df1[df1[\"fold\"]==fold][train_col]\n",
    "\n",
    "df_train_y = df1[df1[\"fold\"]!=fold][\"next water level\"]\n",
    "df_valid_y = df1[df1[\"fold\"]==fold][\"next water level\"]\n",
    "\n",
    "print(df_train_x.shape)\n",
    "print(df_valid_x.shape)"
   ]
  },
  {
   "cell_type": "code",
   "execution_count": 8,
   "id": "645d3dda-8e02-4739-b95c-4a726b7b2d60",
   "metadata": {
    "tags": []
   },
   "outputs": [
    {
     "name": "stdout",
     "output_type": "stream",
     "text": [
      "[LightGBM] [Warning] Auto-choosing row-wise multi-threading, the overhead of testing was 0.026121 seconds.\n",
      "You can set `force_row_wise=true` to remove the overhead.\n",
      "And if memory is not enough, you can set `force_col_wise=true`.\n",
      "[LightGBM] [Info] Total Bins 20933\n",
      "[LightGBM] [Info] Number of data points in the train set: 291419, number of used features: 100\n",
      "[LightGBM] [Info] Start training from score 0.531517\n",
      "Training until validation scores don't improve for 100 rounds\n",
      "[500]\tvalid_0's rmse: 0.174228\n",
      "[1000]\tvalid_0's rmse: 0.164786\n",
      "[1500]\tvalid_0's rmse: 0.160233\n",
      "[2000]\tvalid_0's rmse: 0.157762\n",
      "[2500]\tvalid_0's rmse: 0.156243\n",
      "[3000]\tvalid_0's rmse: 0.155016\n",
      "[3500]\tvalid_0's rmse: 0.154368\n",
      "[4000]\tvalid_0's rmse: 0.153842\n",
      "[4500]\tvalid_0's rmse: 0.153439\n",
      "[5000]\tvalid_0's rmse: 0.152927\n",
      "[5500]\tvalid_0's rmse: 0.152563\n",
      "[6000]\tvalid_0's rmse: 0.152197\n",
      "[6500]\tvalid_0's rmse: 0.151952\n",
      "[7000]\tvalid_0's rmse: 0.151676\n",
      "[7500]\tvalid_0's rmse: 0.15142\n",
      "Early stopping, best iteration is:\n",
      "[7796]\tvalid_0's rmse: 0.15128\n"
     ]
    }
   ],
   "source": [
    "# データセットを生成する\n",
    "lgb_train = lgb.Dataset(df_train_x, df_train_y)\n",
    "lgb_eval = lgb.Dataset(df_valid_x, df_valid_y, reference=lgb_train)\n",
    "\n",
    "# LightGBM のハイパーパラメータ\n",
    "lgbm_params = {\n",
    "    'objective': 'regression',\n",
    "    'metric':'rmse',\n",
    "    'seed': 42,\n",
    "    \n",
    "}\n",
    "\n",
    "# 上記のパラメータでモデルを学習する\n",
    "model = lgb.train(params=lgbm_params, num_boost_round = 30000, early_stopping_rounds = 100, train_set=lgb_train, valid_sets=lgb_eval, categorical_feature = categorical_col, verbose_eval = 500)"
   ]
  },
  {
   "cell_type": "code",
   "execution_count": 11,
   "id": "39aec98f-2255-44c8-b384-0e72aee993e7",
   "metadata": {
    "tags": []
   },
   "outputs": [
    {
     "name": "stdout",
     "output_type": "stream",
     "text": [
      "\n",
      "RMSE: 0.15127995205875355\n"
     ]
    }
   ],
   "source": [
    "# テストデータを予測する\n",
    "y_pred = model.predict(df_valid_x, num_iteration=model.best_iteration)\n",
    "# compute RMSE\n",
    "print('\\nRMSE:', np.sqrt(((df_valid_y-y_pred)**2).mean()))"
   ]
  },
  {
   "cell_type": "code",
   "execution_count": 12,
   "id": "2d900d30-043b-46fe-879f-79f0fc900f41",
   "metadata": {
    "collapsed": true,
    "jupyter": {
     "outputs_hidden": true
    },
    "tags": []
   },
   "outputs": [
    {
     "name": "stdout",
     "output_type": "stream",
     "text": [
      "hour_sin: 28097\n",
      "hour_cos: 23191\n",
      "station_c: 2059\n",
      "h-0: 2791\n",
      "h-1: 2294\n",
      "h-2: 2416\n",
      "h-3: 2069\n",
      "h-4: 2116\n",
      "h-5: 2761\n",
      "h-6: 1998\n",
      "h-7: 2151\n",
      "h-8: 2148\n",
      "h-9: 2346\n",
      "h-10: 2720\n",
      "h-11: 2923\n",
      "h-12: 2684\n",
      "h-13: 2538\n",
      "h-14: 2493\n",
      "h-15: 2291\n",
      "h-16: 2356\n",
      "h-17: 2493\n",
      "h-18: 2486\n",
      "h-19: 2308\n",
      "h-20: 2481\n",
      "h-21: 2245\n",
      "h-22: 2386\n",
      "h-23: 3004\n",
      "mean: 3658\n",
      "max: 2503\n",
      "min: 1707\n",
      "std: 2348\n",
      "nullcount: 163\n",
      "0-12mean: 1952\n",
      "12-24mean: 2394\n",
      "h-0_1d_ago: 2299\n",
      "h-1_1d_ago: 1777\n",
      "h-2_1d_ago: 1640\n",
      "h-3_1d_ago: 1511\n",
      "h-4_1d_ago: 1516\n",
      "h-5_1d_ago: 1537\n",
      "h-6_1d_ago: 1563\n",
      "h-7_1d_ago: 1677\n",
      "h-8_1d_ago: 1698\n",
      "h-9_1d_ago: 1805\n",
      "h-10_1d_ago: 2117\n",
      "h-11_1d_ago: 2105\n",
      "h-12_1d_ago: 2056\n",
      "h-13_1d_ago: 2266\n",
      "h-14_1d_ago: 1959\n",
      "h-15_1d_ago: 2096\n",
      "h-16_1d_ago: 1954\n",
      "h-17_1d_ago: 1934\n",
      "h-18_1d_ago: 1773\n",
      "h-19_1d_ago: 1686\n",
      "h-20_1d_ago: 1707\n",
      "h-21_1d_ago: 1555\n",
      "h-22_1d_ago: 1679\n",
      "h-23_1d_ago: 2408\n",
      "mean_1d_ago: 1437\n",
      "max_1d_ago: 1783\n",
      "min_1d_ago: 1291\n",
      "std_1d_ago: 1939\n",
      "nullcount_1d_ago: 141\n",
      "0-12mean_1d_ago: 1438\n",
      "12-24mean_1d_ago: 1775\n",
      "mean_2d_ago: 1526\n",
      "max_2d_ago: 2164\n",
      "min_2d_ago: 1721\n",
      "std_2d_ago: 2213\n",
      "nullcount_2d_ago: 179\n",
      "0-12mean_2d_ago: 2026\n",
      "12-24mean_2d_ago: 1976\n",
      "mean_3d_ago: 1576\n",
      "max_3d_ago: 2493\n",
      "min_3d_ago: 2072\n",
      "std_3d_ago: 2712\n",
      "nullcount_3d_ago: 169\n",
      "0-12mean_3d_ago: 2343\n",
      "12-24mean_3d_ago: 2149\n",
      "mean_4d_ago: 2485\n",
      "nullcount_4d_ago: 222\n",
      "mean_5d_ago: 2981\n",
      "nullcount_5d_ago: 229\n",
      "std_14d_ago: 4600\n",
      "nullcount_14d_ago: 306\n",
      "std_15d_ago: 3421\n",
      "nullcount_15d_ago: 327\n",
      "std_16d_ago: 3626\n",
      "nullcount_16d_ago: 298\n",
      "12-14-mean_rain: 613\n",
      "12-14-max_rain: 276\n",
      "15-17-mean_rain: 519\n",
      "15-17-max_rain: 118\n",
      "18-20-mean_rain: 582\n",
      "18-20-max_rain: 164\n",
      "21-23-mean_rain: 1341\n",
      "21-23-max_rain: 502\n",
      "mean_rain: 1769\n",
      "mean_1d_ago_rain: 1983\n",
      "mean_2d_ago_rain: 1507\n"
     ]
    }
   ],
   "source": [
    "importance = model.feature_importance()\n",
    "# 各特徴量の重要度を表示\n",
    "for i, val in enumerate(importance):\n",
    "    print(f\"{df_train_x.columns[i]}: {val}\")"
   ]
  },
  {
   "cell_type": "code",
   "execution_count": 13,
   "id": "593b32ad-81e2-485b-9b3f-1c3bfcd4a762",
   "metadata": {},
   "outputs": [],
   "source": [
    "import pickle\n",
    "\n",
    "file = '../model/model_20230102-2-7-fold0.pkl'\n",
    "pickle.dump(model, open(file, 'wb'))"
   ]
  },
  {
   "cell_type": "markdown",
   "id": "4b839209-e804-4abd-acb2-02c68506f069",
   "metadata": {},
   "source": [
    "#### k=1"
   ]
  },
  {
   "cell_type": "code",
   "execution_count": 14,
   "id": "ca227af5-653b-4e10-b5c3-676faaa25547",
   "metadata": {
    "tags": []
   },
   "outputs": [
    {
     "name": "stdout",
     "output_type": "stream",
     "text": [
      "(307178, 100)\n",
      "(65198, 100)\n"
     ]
    }
   ],
   "source": [
    "fold=1\n",
    "# 5年、1年\n",
    "df_train_x = df1[df1[\"fold\"]!=fold][train_col]\n",
    "df_valid_x = df1[df1[\"fold\"]==fold][train_col]\n",
    "\n",
    "df_train_y = df1[df1[\"fold\"]!=fold][\"next water level\"]\n",
    "df_valid_y = df1[df1[\"fold\"]==fold][\"next water level\"]\n",
    "\n",
    "print(df_train_x.shape)\n",
    "print(df_valid_x.shape)"
   ]
  },
  {
   "cell_type": "code",
   "execution_count": 15,
   "id": "31a04f98-ede9-48bb-87bf-791e2b2ee513",
   "metadata": {
    "tags": []
   },
   "outputs": [
    {
     "name": "stdout",
     "output_type": "stream",
     "text": [
      "[LightGBM] [Warning] Auto-choosing col-wise multi-threading, the overhead of testing was 0.075771 seconds.\n",
      "You can set `force_col_wise=true` to remove the overhead.\n",
      "[LightGBM] [Info] Total Bins 20910\n",
      "[LightGBM] [Info] Number of data points in the train set: 307178, number of used features: 100\n",
      "[LightGBM] [Info] Start training from score 0.553540\n",
      "Training until validation scores don't improve for 100 rounds\n",
      "[500]\tvalid_0's rmse: 0.160602\n",
      "[1000]\tvalid_0's rmse: 0.150103\n",
      "[1500]\tvalid_0's rmse: 0.14572\n",
      "[2000]\tvalid_0's rmse: 0.143035\n",
      "[2500]\tvalid_0's rmse: 0.140932\n",
      "[3000]\tvalid_0's rmse: 0.139218\n",
      "[3500]\tvalid_0's rmse: 0.138131\n",
      "[4000]\tvalid_0's rmse: 0.137011\n",
      "[4500]\tvalid_0's rmse: 0.136269\n",
      "[5000]\tvalid_0's rmse: 0.135645\n",
      "[5500]\tvalid_0's rmse: 0.135159\n",
      "[6000]\tvalid_0's rmse: 0.134719\n",
      "[6500]\tvalid_0's rmse: 0.134332\n",
      "[7000]\tvalid_0's rmse: 0.133986\n",
      "[7500]\tvalid_0's rmse: 0.133736\n",
      "[8000]\tvalid_0's rmse: 0.133498\n",
      "[8500]\tvalid_0's rmse: 0.133283\n",
      "[9000]\tvalid_0's rmse: 0.13307\n",
      "[9500]\tvalid_0's rmse: 0.132919\n",
      "[10000]\tvalid_0's rmse: 0.132788\n",
      "[10500]\tvalid_0's rmse: 0.132618\n",
      "[11000]\tvalid_0's rmse: 0.132485\n",
      "[11500]\tvalid_0's rmse: 0.13233\n",
      "[12000]\tvalid_0's rmse: 0.132188\n",
      "[12500]\tvalid_0's rmse: 0.13209\n",
      "[13000]\tvalid_0's rmse: 0.131995\n",
      "[13500]\tvalid_0's rmse: 0.131901\n",
      "[14000]\tvalid_0's rmse: 0.131845\n",
      "[14500]\tvalid_0's rmse: 0.131764\n",
      "[15000]\tvalid_0's rmse: 0.131686\n",
      "Early stopping, best iteration is:\n",
      "[15125]\tvalid_0's rmse: 0.131675\n"
     ]
    }
   ],
   "source": [
    "# データセットを生成する\n",
    "lgb_train = lgb.Dataset(df_train_x, df_train_y)\n",
    "lgb_eval = lgb.Dataset(df_valid_x, df_valid_y, reference=lgb_train)\n",
    "\n",
    "# LightGBM のハイパーパラメータ\n",
    "lgbm_params = {\n",
    "    'objective': 'regression',\n",
    "    'metric':'rmse',\n",
    "    'seed': 42,\n",
    "    \n",
    "}\n",
    "\n",
    "# 上記のパラメータでモデルを学習する\n",
    "model = lgb.train(params=lgbm_params, num_boost_round = 30000, early_stopping_rounds = 100, train_set=lgb_train, valid_sets=lgb_eval, categorical_feature = categorical_col, verbose_eval = 500)"
   ]
  },
  {
   "cell_type": "code",
   "execution_count": 16,
   "id": "86e1a654-5648-42a1-87da-0dc90ba14582",
   "metadata": {
    "tags": []
   },
   "outputs": [
    {
     "name": "stdout",
     "output_type": "stream",
     "text": [
      "\n",
      "RMSE: 0.1316748527792899\n"
     ]
    }
   ],
   "source": [
    "# テストデータを予測する\n",
    "y_pred = model.predict(df_valid_x, num_iteration=model.best_iteration)\n",
    "# compute RMSE\n",
    "print('\\nRMSE:', np.sqrt(((df_valid_y-y_pred)**2).mean()))"
   ]
  },
  {
   "cell_type": "code",
   "execution_count": 17,
   "id": "6c091e1a-a006-40ba-805d-76bb00fb0369",
   "metadata": {
    "collapsed": true,
    "jupyter": {
     "outputs_hidden": true
    },
    "tags": []
   },
   "outputs": [
    {
     "name": "stdout",
     "output_type": "stream",
     "text": [
      "hour_sin: 52109\n",
      "hour_cos: 42735\n",
      "station_c: 3312\n",
      "h-0: 5101\n",
      "h-1: 4296\n",
      "h-2: 4569\n",
      "h-3: 4125\n",
      "h-4: 3828\n",
      "h-5: 4619\n",
      "h-6: 4223\n",
      "h-7: 3998\n",
      "h-8: 4224\n",
      "h-9: 4517\n",
      "h-10: 5228\n",
      "h-11: 5925\n",
      "h-12: 5296\n",
      "h-13: 4897\n",
      "h-14: 5036\n",
      "h-15: 4612\n",
      "h-16: 4605\n",
      "h-17: 4896\n",
      "h-18: 4760\n",
      "h-19: 4241\n",
      "h-20: 4557\n",
      "h-21: 4336\n",
      "h-22: 4574\n",
      "h-23: 5526\n",
      "mean: 7140\n",
      "max: 4664\n",
      "min: 3735\n",
      "std: 4931\n",
      "nullcount: 311\n",
      "0-12mean: 3749\n",
      "12-24mean: 4587\n",
      "h-0_1d_ago: 3981\n",
      "h-1_1d_ago: 3706\n",
      "h-2_1d_ago: 3520\n",
      "h-3_1d_ago: 3145\n",
      "h-4_1d_ago: 3122\n",
      "h-5_1d_ago: 3206\n",
      "h-6_1d_ago: 3158\n",
      "h-7_1d_ago: 3324\n",
      "h-8_1d_ago: 3434\n",
      "h-9_1d_ago: 3671\n",
      "h-10_1d_ago: 4267\n",
      "h-11_1d_ago: 4269\n",
      "h-12_1d_ago: 4274\n",
      "h-13_1d_ago: 4299\n",
      "h-14_1d_ago: 4101\n",
      "h-15_1d_ago: 3789\n",
      "h-16_1d_ago: 3818\n",
      "h-17_1d_ago: 4064\n",
      "h-18_1d_ago: 3491\n",
      "h-19_1d_ago: 3135\n",
      "h-20_1d_ago: 3430\n",
      "h-21_1d_ago: 3145\n",
      "h-22_1d_ago: 3257\n",
      "h-23_1d_ago: 4428\n",
      "mean_1d_ago: 2981\n",
      "max_1d_ago: 3621\n",
      "min_1d_ago: 2630\n",
      "std_1d_ago: 3964\n",
      "nullcount_1d_ago: 241\n",
      "0-12mean_1d_ago: 2884\n",
      "12-24mean_1d_ago: 3696\n",
      "mean_2d_ago: 3158\n",
      "max_2d_ago: 4320\n",
      "min_2d_ago: 3485\n",
      "std_2d_ago: 4436\n",
      "nullcount_2d_ago: 424\n",
      "0-12mean_2d_ago: 3787\n",
      "12-24mean_2d_ago: 3973\n",
      "mean_3d_ago: 3518\n",
      "max_3d_ago: 5083\n",
      "min_3d_ago: 4533\n",
      "std_3d_ago: 5847\n",
      "nullcount_3d_ago: 500\n",
      "0-12mean_3d_ago: 4622\n",
      "12-24mean_3d_ago: 4562\n",
      "mean_4d_ago: 4986\n",
      "nullcount_4d_ago: 590\n",
      "mean_5d_ago: 6466\n",
      "nullcount_5d_ago: 560\n",
      "std_14d_ago: 8627\n",
      "nullcount_14d_ago: 743\n",
      "std_15d_ago: 6869\n",
      "nullcount_15d_ago: 692\n",
      "std_16d_ago: 7418\n",
      "nullcount_16d_ago: 670\n",
      "12-14-mean_rain: 1019\n",
      "12-14-max_rain: 331\n",
      "15-17-mean_rain: 1081\n",
      "15-17-max_rain: 323\n",
      "18-20-mean_rain: 976\n",
      "18-20-max_rain: 367\n",
      "21-23-mean_rain: 2433\n",
      "21-23-max_rain: 624\n",
      "mean_rain: 3280\n",
      "mean_1d_ago_rain: 3387\n",
      "mean_2d_ago_rain: 2747\n"
     ]
    }
   ],
   "source": [
    "importance = model.feature_importance()\n",
    "# 各特徴量の重要度を表示\n",
    "for i, val in enumerate(importance):\n",
    "    print(f\"{df_train_x.columns[i]}: {val}\")"
   ]
  },
  {
   "cell_type": "code",
   "execution_count": 18,
   "id": "0acf7284-28dc-4ed9-a9de-e1f8d5cea7b1",
   "metadata": {},
   "outputs": [],
   "source": [
    "import pickle\n",
    "\n",
    "file = '../model/model_20230102-2-7-fold1.pkl'\n",
    "pickle.dump(model, open(file, 'wb'))"
   ]
  },
  {
   "cell_type": "markdown",
   "id": "9b43dd37-c3de-4450-b5dc-a53c0744a121",
   "metadata": {
    "tags": []
   },
   "source": [
    "#### k=2"
   ]
  },
  {
   "cell_type": "code",
   "execution_count": 19,
   "id": "1a1ef957-bd62-48cb-9b79-a16d14adba15",
   "metadata": {
    "tags": []
   },
   "outputs": [
    {
     "name": "stdout",
     "output_type": "stream",
     "text": [
      "(312260, 100)\n",
      "(60116, 100)\n"
     ]
    }
   ],
   "source": [
    "fold=2\n",
    "# 5年、1年\n",
    "df_train_x = df1[df1[\"fold\"]!=fold][train_col]\n",
    "df_valid_x = df1[df1[\"fold\"]==fold][train_col]\n",
    "\n",
    "df_train_y = df1[df1[\"fold\"]!=fold][\"next water level\"]\n",
    "df_valid_y = df1[df1[\"fold\"]==fold][\"next water level\"]\n",
    "\n",
    "print(df_train_x.shape)\n",
    "print(df_valid_x.shape)"
   ]
  },
  {
   "cell_type": "code",
   "execution_count": 20,
   "id": "02a4090d-1e93-4274-9459-d2b0673d0c1b",
   "metadata": {
    "tags": []
   },
   "outputs": [
    {
     "name": "stdout",
     "output_type": "stream",
     "text": [
      "[LightGBM] [Warning] Auto-choosing col-wise multi-threading, the overhead of testing was 0.062651 seconds.\n",
      "You can set `force_col_wise=true` to remove the overhead.\n",
      "[LightGBM] [Info] Total Bins 20890\n",
      "[LightGBM] [Info] Number of data points in the train set: 312260, number of used features: 100\n",
      "[LightGBM] [Info] Start training from score 0.550600\n",
      "Training until validation scores don't improve for 100 rounds\n",
      "[500]\tvalid_0's rmse: 0.162928\n",
      "[1000]\tvalid_0's rmse: 0.153396\n",
      "[1500]\tvalid_0's rmse: 0.148733\n",
      "[2000]\tvalid_0's rmse: 0.146223\n",
      "[2500]\tvalid_0's rmse: 0.144673\n",
      "[3000]\tvalid_0's rmse: 0.143349\n",
      "[3500]\tvalid_0's rmse: 0.14214\n",
      "[4000]\tvalid_0's rmse: 0.141266\n",
      "[4500]\tvalid_0's rmse: 0.140775\n",
      "[5000]\tvalid_0's rmse: 0.140263\n",
      "[5500]\tvalid_0's rmse: 0.139872\n",
      "[6000]\tvalid_0's rmse: 0.139522\n",
      "[6500]\tvalid_0's rmse: 0.139298\n",
      "[7000]\tvalid_0's rmse: 0.138998\n",
      "[7500]\tvalid_0's rmse: 0.13875\n",
      "[8000]\tvalid_0's rmse: 0.13855\n",
      "[8500]\tvalid_0's rmse: 0.138375\n",
      "Early stopping, best iteration is:\n",
      "[8791]\tvalid_0's rmse: 0.138271\n"
     ]
    }
   ],
   "source": [
    "# データセットを生成する\n",
    "lgb_train = lgb.Dataset(df_train_x, df_train_y)\n",
    "lgb_eval = lgb.Dataset(df_valid_x, df_valid_y, reference=lgb_train)\n",
    "\n",
    "# LightGBM のハイパーパラメータ\n",
    "lgbm_params = {\n",
    "    'objective': 'regression',\n",
    "    'metric':'rmse',\n",
    "    'seed': 42,\n",
    "    \n",
    "}\n",
    "\n",
    "# 上記のパラメータでモデルを学習する\n",
    "model = lgb.train(params=lgbm_params, num_boost_round = 30000, early_stopping_rounds = 100, train_set=lgb_train, valid_sets=lgb_eval, categorical_feature = categorical_col, verbose_eval = 500)"
   ]
  },
  {
   "cell_type": "code",
   "execution_count": 21,
   "id": "b47d5a05-b3cb-4eb8-ab4a-ba993ca2992d",
   "metadata": {
    "tags": []
   },
   "outputs": [
    {
     "name": "stdout",
     "output_type": "stream",
     "text": [
      "\n",
      "RMSE: 0.1382709710855723\n"
     ]
    }
   ],
   "source": [
    "# テストデータを予測する\n",
    "y_pred = model.predict(df_valid_x, num_iteration=model.best_iteration)\n",
    "# compute RMSE\n",
    "print('\\nRMSE:', np.sqrt(((df_valid_y-y_pred)**2).mean()))"
   ]
  },
  {
   "cell_type": "code",
   "execution_count": 22,
   "id": "09517061-9a84-4386-a21c-3e9707472755",
   "metadata": {
    "tags": []
   },
   "outputs": [
    {
     "name": "stdout",
     "output_type": "stream",
     "text": [
      "hour_sin: 31306\n",
      "hour_cos: 25957\n",
      "station_c: 2238\n",
      "h-0: 3156\n",
      "h-1: 2633\n",
      "h-2: 2683\n",
      "h-3: 2346\n",
      "h-4: 2413\n",
      "h-5: 2985\n",
      "h-6: 2503\n",
      "h-7: 2385\n",
      "h-8: 2473\n",
      "h-9: 2697\n",
      "h-10: 3032\n",
      "h-11: 3397\n",
      "h-12: 3080\n",
      "h-13: 2878\n",
      "h-14: 2693\n",
      "h-15: 2644\n",
      "h-16: 2554\n",
      "h-17: 2961\n",
      "h-18: 2850\n",
      "h-19: 2601\n",
      "h-20: 2757\n",
      "h-21: 2588\n",
      "h-22: 2808\n",
      "h-23: 3430\n",
      "mean: 4513\n",
      "max: 2687\n",
      "min: 2025\n",
      "std: 2789\n",
      "nullcount: 226\n",
      "0-12mean: 2199\n",
      "12-24mean: 2547\n",
      "h-0_1d_ago: 2271\n",
      "h-1_1d_ago: 2028\n",
      "h-2_1d_ago: 1995\n",
      "h-3_1d_ago: 1783\n",
      "h-4_1d_ago: 1838\n",
      "h-5_1d_ago: 1778\n",
      "h-6_1d_ago: 1796\n",
      "h-7_1d_ago: 1851\n",
      "h-8_1d_ago: 1960\n",
      "h-9_1d_ago: 2037\n",
      "h-10_1d_ago: 2388\n",
      "h-11_1d_ago: 2519\n",
      "h-12_1d_ago: 2377\n",
      "h-13_1d_ago: 2396\n",
      "h-14_1d_ago: 2166\n",
      "h-15_1d_ago: 2183\n",
      "h-16_1d_ago: 2132\n",
      "h-17_1d_ago: 2152\n",
      "h-18_1d_ago: 1894\n",
      "h-19_1d_ago: 1804\n",
      "h-20_1d_ago: 1890\n",
      "h-21_1d_ago: 1828\n",
      "h-22_1d_ago: 1897\n",
      "h-23_1d_ago: 2667\n",
      "mean_1d_ago: 1671\n",
      "max_1d_ago: 1982\n",
      "min_1d_ago: 1418\n",
      "std_1d_ago: 2270\n",
      "nullcount_1d_ago: 94\n",
      "0-12mean_1d_ago: 1582\n",
      "12-24mean_1d_ago: 1896\n",
      "mean_2d_ago: 1783\n",
      "max_2d_ago: 2451\n",
      "min_2d_ago: 1805\n",
      "std_2d_ago: 2536\n",
      "nullcount_2d_ago: 259\n",
      "0-12mean_2d_ago: 2473\n",
      "12-24mean_2d_ago: 2220\n",
      "mean_3d_ago: 1890\n",
      "max_3d_ago: 2925\n",
      "min_3d_ago: 2182\n",
      "std_3d_ago: 3150\n",
      "nullcount_3d_ago: 264\n",
      "0-12mean_3d_ago: 2782\n",
      "12-24mean_3d_ago: 2400\n",
      "mean_4d_ago: 2793\n",
      "nullcount_4d_ago: 316\n",
      "mean_5d_ago: 3452\n",
      "nullcount_5d_ago: 325\n",
      "std_14d_ago: 5069\n",
      "nullcount_14d_ago: 450\n",
      "std_15d_ago: 3866\n",
      "nullcount_15d_ago: 362\n",
      "std_16d_ago: 4009\n",
      "nullcount_16d_ago: 372\n",
      "12-14-mean_rain: 681\n",
      "12-14-max_rain: 237\n",
      "15-17-mean_rain: 659\n",
      "15-17-max_rain: 171\n",
      "18-20-mean_rain: 672\n",
      "18-20-max_rain: 206\n",
      "21-23-mean_rain: 1307\n",
      "21-23-max_rain: 370\n",
      "mean_rain: 1912\n",
      "mean_1d_ago_rain: 2110\n",
      "mean_2d_ago_rain: 1694\n"
     ]
    }
   ],
   "source": [
    "importance = model.feature_importance()\n",
    "# 各特徴量の重要度を表示\n",
    "for i, val in enumerate(importance):\n",
    "    print(f\"{df_train_x.columns[i]}: {val}\")"
   ]
  },
  {
   "cell_type": "code",
   "execution_count": 23,
   "id": "7c01b358-9ac6-4ce8-ae03-9946aa82f6a6",
   "metadata": {},
   "outputs": [],
   "source": [
    "import pickle\n",
    "\n",
    "file = '../model/model_20230102-2-7-fold2.pkl'\n",
    "pickle.dump(model, open(file, 'wb'))"
   ]
  },
  {
   "cell_type": "markdown",
   "id": "204fd7ad-2f65-45fd-943e-de5bb8ef7d5a",
   "metadata": {
    "tags": []
   },
   "source": [
    "#### k=3"
   ]
  },
  {
   "cell_type": "code",
   "execution_count": 24,
   "id": "1e6c1045-4304-4c63-bc2b-c07424947505",
   "metadata": {
    "tags": []
   },
   "outputs": [
    {
     "name": "stdout",
     "output_type": "stream",
     "text": [
      "(325756, 100)\n",
      "(46620, 100)\n"
     ]
    }
   ],
   "source": [
    "fold=3\n",
    "# 5年、1年\n",
    "df_train_x = df1[df1[\"fold\"]!=fold][train_col]\n",
    "df_valid_x = df1[df1[\"fold\"]==fold][train_col]\n",
    "\n",
    "df_train_y = df1[df1[\"fold\"]!=fold][\"next water level\"]\n",
    "df_valid_y = df1[df1[\"fold\"]==fold][\"next water level\"]\n",
    "\n",
    "print(df_train_x.shape)\n",
    "print(df_valid_x.shape)"
   ]
  },
  {
   "cell_type": "code",
   "execution_count": 27,
   "id": "53831c5a-304e-4468-b735-befdbb5b0570",
   "metadata": {
    "tags": []
   },
   "outputs": [
    {
     "name": "stdout",
     "output_type": "stream",
     "text": [
      "[LightGBM] [Warning] Auto-choosing col-wise multi-threading, the overhead of testing was 0.049376 seconds.\n",
      "You can set `force_col_wise=true` to remove the overhead.\n",
      "[LightGBM] [Info] Total Bins 20925\n",
      "[LightGBM] [Info] Number of data points in the train set: 325756, number of used features: 100\n",
      "[LightGBM] [Info] Start training from score 0.562072\n",
      "Training until validation scores don't improve for 200 rounds\n",
      "[500]\tvalid_0's rmse: 0.275249\n",
      "[1000]\tvalid_0's rmse: 0.270946\n",
      "[1500]\tvalid_0's rmse: 0.267679\n",
      "[2000]\tvalid_0's rmse: 0.265819\n",
      "[2500]\tvalid_0's rmse: 0.264451\n",
      "[3000]\tvalid_0's rmse: 0.2634\n",
      "[3500]\tvalid_0's rmse: 0.261952\n",
      "[4000]\tvalid_0's rmse: 0.261056\n",
      "[4500]\tvalid_0's rmse: 0.260812\n",
      "[5000]\tvalid_0's rmse: 0.260237\n",
      "[5500]\tvalid_0's rmse: 0.259903\n",
      "[6000]\tvalid_0's rmse: 0.259607\n",
      "[6500]\tvalid_0's rmse: 0.259145\n",
      "[7000]\tvalid_0's rmse: 0.258899\n",
      "[7500]\tvalid_0's rmse: 0.258728\n",
      "[8000]\tvalid_0's rmse: 0.258521\n",
      "Early stopping, best iteration is:\n",
      "[7917]\tvalid_0's rmse: 0.258437\n"
     ]
    }
   ],
   "source": [
    "# データセットを生成する\n",
    "lgb_train = lgb.Dataset(df_train_x, df_train_y)\n",
    "lgb_eval = lgb.Dataset(df_valid_x, df_valid_y, reference=lgb_train)\n",
    "\n",
    "# LightGBM のハイパーパラメータ\n",
    "lgbm_params = {\n",
    "    'objective': 'regression',\n",
    "    'metric':'rmse',\n",
    "    'seed': 42,\n",
    "    \n",
    "}\n",
    "\n",
    "# 上記のパラメータでモデルを学習する\n",
    "model = lgb.train(params=lgbm_params, num_boost_round = 30000, early_stopping_rounds = 200, train_set=lgb_train, valid_sets=lgb_eval, categorical_feature = categorical_col, verbose_eval = 500)"
   ]
  },
  {
   "cell_type": "code",
   "execution_count": 28,
   "id": "16c099a1-a239-4f82-bb1e-61a6be2e60ad",
   "metadata": {
    "tags": []
   },
   "outputs": [
    {
     "name": "stdout",
     "output_type": "stream",
     "text": [
      "\n",
      "RMSE: 0.258436791424447\n"
     ]
    }
   ],
   "source": [
    "# テストデータを予測する\n",
    "y_pred = model.predict(df_valid_x, num_iteration=model.best_iteration)\n",
    "# compute RMSE\n",
    "print('\\nRMSE:', np.sqrt(((df_valid_y-y_pred)**2).mean()))"
   ]
  },
  {
   "cell_type": "code",
   "execution_count": 29,
   "id": "c55cc5ed-9e88-477e-98b6-479fe7168433",
   "metadata": {
    "collapsed": true,
    "jupyter": {
     "outputs_hidden": true
    },
    "tags": []
   },
   "outputs": [
    {
     "name": "stdout",
     "output_type": "stream",
     "text": [
      "hour_sin: 27907\n",
      "hour_cos: 23382\n",
      "station_c: 1925\n",
      "h-0: 2938\n",
      "h-1: 2401\n",
      "h-2: 2504\n",
      "h-3: 2126\n",
      "h-4: 2157\n",
      "h-5: 2747\n",
      "h-6: 2206\n",
      "h-7: 2414\n",
      "h-8: 2274\n",
      "h-9: 2658\n",
      "h-10: 3016\n",
      "h-11: 3293\n",
      "h-12: 3193\n",
      "h-13: 2838\n",
      "h-14: 2734\n",
      "h-15: 2606\n",
      "h-16: 2652\n",
      "h-17: 2925\n",
      "h-18: 2826\n",
      "h-19: 2525\n",
      "h-20: 2637\n",
      "h-21: 2403\n",
      "h-22: 2511\n",
      "h-23: 3078\n",
      "mean: 4318\n",
      "max: 2357\n",
      "min: 1682\n",
      "std: 2679\n",
      "nullcount: 180\n",
      "0-12mean: 1919\n",
      "12-24mean: 2336\n",
      "h-0_1d_ago: 1952\n",
      "h-1_1d_ago: 1809\n",
      "h-2_1d_ago: 1906\n",
      "h-3_1d_ago: 1522\n",
      "h-4_1d_ago: 1572\n",
      "h-5_1d_ago: 1535\n",
      "h-6_1d_ago: 1453\n",
      "h-7_1d_ago: 1593\n",
      "h-8_1d_ago: 1794\n",
      "h-9_1d_ago: 2014\n",
      "h-10_1d_ago: 2265\n",
      "h-11_1d_ago: 2479\n",
      "h-12_1d_ago: 2273\n",
      "h-13_1d_ago: 2476\n",
      "h-14_1d_ago: 2094\n",
      "h-15_1d_ago: 2174\n",
      "h-16_1d_ago: 1927\n",
      "h-17_1d_ago: 2018\n",
      "h-18_1d_ago: 1668\n",
      "h-19_1d_ago: 1639\n",
      "h-20_1d_ago: 1728\n",
      "h-21_1d_ago: 1747\n",
      "h-22_1d_ago: 1751\n",
      "h-23_1d_ago: 2283\n",
      "mean_1d_ago: 1399\n",
      "max_1d_ago: 1870\n",
      "min_1d_ago: 1178\n",
      "std_1d_ago: 1911\n",
      "nullcount_1d_ago: 74\n",
      "0-12mean_1d_ago: 1408\n",
      "12-24mean_1d_ago: 1834\n",
      "mean_2d_ago: 1320\n",
      "max_2d_ago: 2106\n",
      "min_2d_ago: 1376\n",
      "std_2d_ago: 2118\n",
      "nullcount_2d_ago: 217\n",
      "0-12mean_2d_ago: 1826\n",
      "12-24mean_2d_ago: 1847\n",
      "mean_3d_ago: 1499\n",
      "max_3d_ago: 2333\n",
      "min_3d_ago: 2244\n",
      "std_3d_ago: 2821\n",
      "nullcount_3d_ago: 230\n",
      "0-12mean_3d_ago: 2405\n",
      "12-24mean_3d_ago: 2157\n",
      "mean_4d_ago: 1894\n",
      "nullcount_4d_ago: 230\n",
      "mean_5d_ago: 2547\n",
      "nullcount_5d_ago: 253\n",
      "std_14d_ago: 4164\n",
      "nullcount_14d_ago: 281\n",
      "std_15d_ago: 3023\n",
      "nullcount_15d_ago: 277\n",
      "std_16d_ago: 3236\n",
      "nullcount_16d_ago: 296\n",
      "12-14-mean_rain: 639\n",
      "12-14-max_rain: 262\n",
      "15-17-mean_rain: 536\n",
      "15-17-max_rain: 187\n",
      "18-20-mean_rain: 563\n",
      "18-20-max_rain: 227\n",
      "21-23-mean_rain: 1291\n",
      "21-23-max_rain: 461\n",
      "mean_rain: 1828\n",
      "mean_1d_ago_rain: 1823\n",
      "mean_2d_ago_rain: 1300\n"
     ]
    }
   ],
   "source": [
    "importance = model.feature_importance()\n",
    "# 各特徴量の重要度を表示\n",
    "for i, val in enumerate(importance):\n",
    "    print(f\"{df_train_x.columns[i]}: {val}\")"
   ]
  },
  {
   "cell_type": "code",
   "execution_count": 31,
   "id": "094cbc90-f960-4132-8f58-5d2c7838cbf3",
   "metadata": {
    "tags": []
   },
   "outputs": [
    {
     "data": {
      "text/html": [
       "<div>\n",
       "<style scoped>\n",
       "    .dataframe tbody tr th:only-of-type {\n",
       "        vertical-align: middle;\n",
       "    }\n",
       "\n",
       "    .dataframe tbody tr th {\n",
       "        vertical-align: top;\n",
       "    }\n",
       "\n",
       "    .dataframe thead th {\n",
       "        text-align: right;\n",
       "    }\n",
       "</style>\n",
       "<table border=\"1\" class=\"dataframe\">\n",
       "  <thead>\n",
       "    <tr style=\"text-align: right;\">\n",
       "      <th></th>\n",
       "      <th>date</th>\n",
       "      <th>station</th>\n",
       "      <th>river</th>\n",
       "      <th>hour</th>\n",
       "      <th>loss</th>\n",
       "    </tr>\n",
       "  </thead>\n",
       "  <tbody>\n",
       "    <tr>\n",
       "      <th>59849</th>\n",
       "      <td>365</td>\n",
       "      <td>草津(国)</td>\n",
       "      <td>太田川放水路</td>\n",
       "      <td>0</td>\n",
       "      <td>0.014983</td>\n",
       "    </tr>\n",
       "    <tr>\n",
       "      <th>59850</th>\n",
       "      <td>365</td>\n",
       "      <td>草津(国)</td>\n",
       "      <td>太田川放水路</td>\n",
       "      <td>1</td>\n",
       "      <td>0.025589</td>\n",
       "    </tr>\n",
       "    <tr>\n",
       "      <th>59851</th>\n",
       "      <td>365</td>\n",
       "      <td>草津(国)</td>\n",
       "      <td>太田川放水路</td>\n",
       "      <td>2</td>\n",
       "      <td>0.042389</td>\n",
       "    </tr>\n",
       "    <tr>\n",
       "      <th>59852</th>\n",
       "      <td>365</td>\n",
       "      <td>草津(国)</td>\n",
       "      <td>太田川放水路</td>\n",
       "      <td>3</td>\n",
       "      <td>0.030581</td>\n",
       "    </tr>\n",
       "    <tr>\n",
       "      <th>59853</th>\n",
       "      <td>365</td>\n",
       "      <td>草津(国)</td>\n",
       "      <td>太田川放水路</td>\n",
       "      <td>4</td>\n",
       "      <td>0.038986</td>\n",
       "    </tr>\n",
       "    <tr>\n",
       "      <th>...</th>\n",
       "      <td>...</td>\n",
       "      <td>...</td>\n",
       "      <td>...</td>\n",
       "      <td>...</td>\n",
       "      <td>...</td>\n",
       "    </tr>\n",
       "    <tr>\n",
       "      <th>106464</th>\n",
       "      <td>729</td>\n",
       "      <td>竹原</td>\n",
       "      <td>賀茂川</td>\n",
       "      <td>19</td>\n",
       "      <td>0.004404</td>\n",
       "    </tr>\n",
       "    <tr>\n",
       "      <th>106465</th>\n",
       "      <td>729</td>\n",
       "      <td>竹原</td>\n",
       "      <td>賀茂川</td>\n",
       "      <td>20</td>\n",
       "      <td>0.000141</td>\n",
       "    </tr>\n",
       "    <tr>\n",
       "      <th>106466</th>\n",
       "      <td>729</td>\n",
       "      <td>竹原</td>\n",
       "      <td>賀茂川</td>\n",
       "      <td>21</td>\n",
       "      <td>0.000692</td>\n",
       "    </tr>\n",
       "    <tr>\n",
       "      <th>106467</th>\n",
       "      <td>729</td>\n",
       "      <td>竹原</td>\n",
       "      <td>賀茂川</td>\n",
       "      <td>22</td>\n",
       "      <td>0.000058</td>\n",
       "    </tr>\n",
       "    <tr>\n",
       "      <th>106468</th>\n",
       "      <td>729</td>\n",
       "      <td>竹原</td>\n",
       "      <td>賀茂川</td>\n",
       "      <td>23</td>\n",
       "      <td>0.000030</td>\n",
       "    </tr>\n",
       "  </tbody>\n",
       "</table>\n",
       "<p>46620 rows × 5 columns</p>\n",
       "</div>"
      ],
      "text/plain": [
       "        date station   river  hour      loss\n",
       "59849    365   草津(国)  太田川放水路     0  0.014983\n",
       "59850    365   草津(国)  太田川放水路     1  0.025589\n",
       "59851    365   草津(国)  太田川放水路     2  0.042389\n",
       "59852    365   草津(国)  太田川放水路     3  0.030581\n",
       "59853    365   草津(国)  太田川放水路     4  0.038986\n",
       "...      ...     ...     ...   ...       ...\n",
       "106464   729      竹原     賀茂川    19  0.004404\n",
       "106465   729      竹原     賀茂川    20  0.000141\n",
       "106466   729      竹原     賀茂川    21  0.000692\n",
       "106467   729      竹原     賀茂川    22  0.000058\n",
       "106468   729      竹原     賀茂川    23  0.000030\n",
       "\n",
       "[46620 rows x 5 columns]"
      ]
     },
     "execution_count": 31,
     "metadata": {},
     "output_type": "execute_result"
    }
   ],
   "source": [
    "df_valid = df1[(df1[\"date\"] >= 365) & (df1[\"date\"] < 730)][[\"date\", \"station\", \"river\", \"hour\"]]\n",
    "df_valid[\"loss\"] = (df_valid_y-y_pred)**2\n",
    "df_valid"
   ]
  },
  {
   "cell_type": "code",
   "execution_count": 32,
   "id": "a8896faf-a433-46bc-9512-8460f635f1fa",
   "metadata": {
    "tags": []
   },
   "outputs": [
    {
     "data": {
      "text/plain": [
       "station\n",
       "三篠橋(国)         0.071988\n",
       "岡ノ下            0.044757\n",
       "江波(旧太田川)(国)    0.073743\n",
       "祇園大橋(国)        0.084141\n",
       "竹原             0.047376\n",
       "草津(国)          0.084179\n",
       "長和久(国)         0.063520\n",
       "Name: loss, dtype: float64"
      ]
     },
     "execution_count": 32,
     "metadata": {},
     "output_type": "execute_result"
    }
   ],
   "source": [
    "df_valloss = df_valid.groupby(\"station\")[\"loss\"].mean()\n",
    "df_valloss"
   ]
  },
  {
   "cell_type": "code",
   "execution_count": 33,
   "id": "63ed6331-e05d-4611-9b33-1d2e6a72238a",
   "metadata": {},
   "outputs": [],
   "source": [
    "import pickle\n",
    "\n",
    "file = '../model/model_20230102-2-7-fold3.pkl'\n",
    "pickle.dump(model, open(file, 'wb'))"
   ]
  },
  {
   "cell_type": "markdown",
   "id": "dfa7a336-0a80-47c5-87bb-f955f0906109",
   "metadata": {
    "tags": []
   },
   "source": [
    "#### k=4"
   ]
  },
  {
   "cell_type": "code",
   "execution_count": 34,
   "id": "66057d7e-3320-4550-8303-65a0e7eccee6",
   "metadata": {
    "tags": []
   },
   "outputs": [
    {
     "name": "stdout",
     "output_type": "stream",
     "text": [
      "(312527, 100)\n",
      "(59849, 100)\n"
     ]
    }
   ],
   "source": [
    "fold=4\n",
    "# 5年、1年\n",
    "df_train_x = df1[df1[\"fold\"]!=fold][train_col]\n",
    "df_valid_x = df1[df1[\"fold\"]==fold][train_col]\n",
    "\n",
    "df_train_y = df1[df1[\"fold\"]!=fold][\"next water level\"]\n",
    "df_valid_y = df1[df1[\"fold\"]==fold][\"next water level\"]\n",
    "\n",
    "print(df_train_x.shape)\n",
    "print(df_valid_x.shape)"
   ]
  },
  {
   "cell_type": "code",
   "execution_count": 35,
   "id": "840cb719-a4bf-446b-95d3-b812e154f926",
   "metadata": {
    "tags": []
   },
   "outputs": [
    {
     "name": "stdout",
     "output_type": "stream",
     "text": [
      "[LightGBM] [Warning] Auto-choosing row-wise multi-threading, the overhead of testing was 0.050105 seconds.\n",
      "You can set `force_row_wise=true` to remove the overhead.\n",
      "And if memory is not enough, you can set `force_col_wise=true`.\n",
      "[LightGBM] [Info] Total Bins 20854\n",
      "[LightGBM] [Info] Number of data points in the train set: 312527, number of used features: 100\n",
      "[LightGBM] [Info] Start training from score 0.559333\n",
      "Training until validation scores don't improve for 100 rounds\n",
      "[500]\tvalid_0's rmse: 0.150624\n",
      "[1000]\tvalid_0's rmse: 0.139807\n",
      "[1500]\tvalid_0's rmse: 0.135309\n",
      "[2000]\tvalid_0's rmse: 0.132284\n",
      "[2500]\tvalid_0's rmse: 0.130506\n",
      "[3000]\tvalid_0's rmse: 0.129101\n",
      "[3500]\tvalid_0's rmse: 0.127952\n",
      "[4000]\tvalid_0's rmse: 0.127076\n",
      "[4500]\tvalid_0's rmse: 0.126437\n",
      "[5000]\tvalid_0's rmse: 0.12595\n",
      "[5500]\tvalid_0's rmse: 0.125464\n",
      "[6000]\tvalid_0's rmse: 0.125003\n",
      "[6500]\tvalid_0's rmse: 0.124626\n",
      "[7000]\tvalid_0's rmse: 0.124284\n",
      "[7500]\tvalid_0's rmse: 0.123955\n",
      "[8000]\tvalid_0's rmse: 0.123734\n",
      "[8500]\tvalid_0's rmse: 0.123527\n",
      "[9000]\tvalid_0's rmse: 0.123372\n",
      "[9500]\tvalid_0's rmse: 0.123196\n",
      "[10000]\tvalid_0's rmse: 0.123006\n",
      "[10500]\tvalid_0's rmse: 0.12279\n",
      "[11000]\tvalid_0's rmse: 0.122657\n",
      "[11500]\tvalid_0's rmse: 0.122554\n",
      "[12000]\tvalid_0's rmse: 0.122437\n",
      "[12500]\tvalid_0's rmse: 0.122332\n",
      "[13000]\tvalid_0's rmse: 0.122201\n",
      "[13500]\tvalid_0's rmse: 0.122124\n",
      "[14000]\tvalid_0's rmse: 0.122059\n",
      "[14500]\tvalid_0's rmse: 0.121978\n",
      "[15000]\tvalid_0's rmse: 0.121888\n",
      "[15500]\tvalid_0's rmse: 0.121827\n",
      "[16000]\tvalid_0's rmse: 0.121759\n",
      "[16500]\tvalid_0's rmse: 0.121713\n",
      "[17000]\tvalid_0's rmse: 0.121665\n",
      "[17500]\tvalid_0's rmse: 0.121618\n",
      "[18000]\tvalid_0's rmse: 0.121573\n",
      "[18500]\tvalid_0's rmse: 0.121522\n",
      "Early stopping, best iteration is:\n",
      "[18756]\tvalid_0's rmse: 0.121487\n"
     ]
    }
   ],
   "source": [
    "# データセットを生成する\n",
    "lgb_train = lgb.Dataset(df_train_x, df_train_y)\n",
    "lgb_eval = lgb.Dataset(df_valid_x, df_valid_y, reference=lgb_train)\n",
    "\n",
    "# LightGBM のハイパーパラメータ\n",
    "lgbm_params = {\n",
    "    'objective': 'regression',\n",
    "    'metric':'rmse',\n",
    "    'seed': 42,\n",
    "    \n",
    "}\n",
    "\n",
    "# 上記のパラメータでモデルを学習する\n",
    "model = lgb.train(params=lgbm_params, num_boost_round = 30000, early_stopping_rounds = 100, train_set=lgb_train, valid_sets=lgb_eval, categorical_feature = categorical_col, verbose_eval = 500)"
   ]
  },
  {
   "cell_type": "code",
   "execution_count": 36,
   "id": "0af62c39-fc85-4277-a36d-16ca225041e0",
   "metadata": {
    "tags": []
   },
   "outputs": [
    {
     "name": "stdout",
     "output_type": "stream",
     "text": [
      "\n",
      "RMSE: 0.12148749190504753\n"
     ]
    }
   ],
   "source": [
    "# テストデータを予測する\n",
    "y_pred = model.predict(df_valid_x, num_iteration=model.best_iteration)\n",
    "# compute RMSE\n",
    "print('\\nRMSE:', np.sqrt(((df_valid_y-y_pred)**2).mean()))"
   ]
  },
  {
   "cell_type": "code",
   "execution_count": 37,
   "id": "fbb31a82-0ab6-4fc6-b297-a22d16e5793a",
   "metadata": {
    "collapsed": true,
    "jupyter": {
     "outputs_hidden": true
    },
    "tags": []
   },
   "outputs": [
    {
     "name": "stdout",
     "output_type": "stream",
     "text": [
      "hour_sin: 65251\n",
      "hour_cos: 53584\n",
      "station_c: 4450\n",
      "h-0: 6630\n",
      "h-1: 5425\n",
      "h-2: 5378\n",
      "h-3: 4772\n",
      "h-4: 4869\n",
      "h-5: 6104\n",
      "h-6: 4927\n",
      "h-7: 5306\n",
      "h-8: 5146\n",
      "h-9: 5750\n",
      "h-10: 6651\n",
      "h-11: 6736\n",
      "h-12: 6432\n",
      "h-13: 6161\n",
      "h-14: 5808\n",
      "h-15: 5948\n",
      "h-16: 5573\n",
      "h-17: 5957\n",
      "h-18: 5553\n",
      "h-19: 5311\n",
      "h-20: 6175\n",
      "h-21: 5553\n",
      "h-22: 5480\n",
      "h-23: 6666\n",
      "mean: 8603\n",
      "max: 5881\n",
      "min: 4527\n",
      "std: 6104\n",
      "nullcount: 348\n",
      "0-12mean: 4668\n",
      "12-24mean: 5041\n",
      "h-0_1d_ago: 4998\n",
      "h-1_1d_ago: 4433\n",
      "h-2_1d_ago: 3982\n",
      "h-3_1d_ago: 3722\n",
      "h-4_1d_ago: 3883\n",
      "h-5_1d_ago: 3929\n",
      "h-6_1d_ago: 4163\n",
      "h-7_1d_ago: 4319\n",
      "h-8_1d_ago: 4272\n",
      "h-9_1d_ago: 4549\n",
      "h-10_1d_ago: 5529\n",
      "h-11_1d_ago: 5285\n",
      "h-12_1d_ago: 5227\n",
      "h-13_1d_ago: 5267\n",
      "h-14_1d_ago: 5106\n",
      "h-15_1d_ago: 4939\n",
      "h-16_1d_ago: 4768\n",
      "h-17_1d_ago: 4717\n",
      "h-18_1d_ago: 4199\n",
      "h-19_1d_ago: 4055\n",
      "h-20_1d_ago: 4207\n",
      "h-21_1d_ago: 4043\n",
      "h-22_1d_ago: 4174\n",
      "h-23_1d_ago: 5281\n",
      "mean_1d_ago: 3611\n",
      "max_1d_ago: 4873\n",
      "min_1d_ago: 3397\n",
      "std_1d_ago: 5122\n",
      "nullcount_1d_ago: 193\n",
      "0-12mean_1d_ago: 3567\n",
      "12-24mean_1d_ago: 4295\n",
      "mean_2d_ago: 4061\n",
      "max_2d_ago: 5364\n",
      "min_2d_ago: 4392\n",
      "std_2d_ago: 5811\n",
      "nullcount_2d_ago: 525\n",
      "0-12mean_2d_ago: 5315\n",
      "12-24mean_2d_ago: 5252\n",
      "mean_3d_ago: 4507\n",
      "max_3d_ago: 6477\n",
      "min_3d_ago: 5417\n",
      "std_3d_ago: 6920\n",
      "nullcount_3d_ago: 481\n",
      "0-12mean_3d_ago: 5945\n",
      "12-24mean_3d_ago: 5768\n",
      "mean_4d_ago: 6706\n",
      "nullcount_4d_ago: 593\n",
      "mean_5d_ago: 7869\n",
      "nullcount_5d_ago: 655\n",
      "std_14d_ago: 10602\n",
      "nullcount_14d_ago: 840\n",
      "std_15d_ago: 8737\n",
      "nullcount_15d_ago: 751\n",
      "std_16d_ago: 9124\n",
      "nullcount_16d_ago: 654\n",
      "12-14-mean_rain: 1218\n",
      "12-14-max_rain: 488\n",
      "15-17-mean_rain: 1063\n",
      "15-17-max_rain: 338\n",
      "18-20-mean_rain: 1109\n",
      "18-20-max_rain: 350\n",
      "21-23-mean_rain: 2219\n",
      "21-23-max_rain: 629\n",
      "mean_rain: 3939\n",
      "mean_1d_ago_rain: 3903\n",
      "mean_2d_ago_rain: 3785\n"
     ]
    }
   ],
   "source": [
    "importance = model.feature_importance()\n",
    "# 各特徴量の重要度を表示\n",
    "for i, val in enumerate(importance):\n",
    "    print(f\"{df_train_x.columns[i]}: {val}\")"
   ]
  },
  {
   "cell_type": "code",
   "execution_count": 38,
   "id": "8c283cca-e9d7-4e95-94ce-fdad7e2545fd",
   "metadata": {},
   "outputs": [],
   "source": [
    "import pickle\n",
    "\n",
    "file = '../model/model_20230102-2-7-fold4.pkl'\n",
    "pickle.dump(model, open(file, 'wb'))"
   ]
  },
  {
   "cell_type": "markdown",
   "id": "a6bc4f15-3f06-4e24-8c34-93c2f5d23e83",
   "metadata": {},
   "source": [
    "### 潮位ラベル0"
   ]
  },
  {
   "cell_type": "code",
   "execution_count": 5,
   "id": "68004280-b5cf-4100-a456-a5934f35a72e",
   "metadata": {},
   "outputs": [
    {
     "name": "stdout",
     "output_type": "stream",
     "text": [
      "['hour_sin', 'hour_cos', 'station_c', 'h-0', 'h-6', 'h-12', 'h-15', 'h-18', 'h-21', 'h-22', 'h-23', 'mean', 'max', 'min', 'std', 'nullcount', '0-12mean', '12-24mean', '0-6mean', '6-12mean', '12-18mean', '18-24mean', 'std_1d_ago', 'nullcount_1d_ago', '0-6mean_1d_ago', '6-12mean_1d_ago', '12-18mean_1d_ago', '18-24mean_1d_ago', 'std_2d_ago', 'nullcount_2d_ago', '0-12mean_2d_ago', '12-24mean_2d_ago', '12-14-mean_rain', '12-14-max_rain', '15-17-mean_rain', '15-17-max_rain', '18-20-mean_rain', '18-20-max_rain', '21-23-mean_rain', '21-23-max_rain', 'mean_rain', 'mean_1d_ago_rain', 'mean_2d_ago_rain']\n"
     ]
    }
   ],
   "source": [
    "train_col = []\n",
    "categorical_col = [\"station_c\"]\n",
    "for col in df0.columns:\n",
    "    if col not in [\"date\", \"station\", \"river\", \"hour\", \"next water level\",\"fold\"]:\n",
    "            train_col.append(col)\n",
    "else:\n",
    "    print(train_col)"
   ]
  },
  {
   "cell_type": "markdown",
   "id": "ff9475e8-584f-444c-ae0b-c18674a5f7c6",
   "metadata": {
    "tags": []
   },
   "source": [
    "#### k=0"
   ]
  },
  {
   "cell_type": "code",
   "execution_count": 6,
   "id": "74f3c648-c963-4ccc-9ad4-19136654d1c5",
   "metadata": {
    "tags": []
   },
   "outputs": [
    {
     "name": "stdout",
     "output_type": "stream",
     "text": [
      "(6660147, 43)\n",
      "(1426943, 43)\n"
     ]
    }
   ],
   "source": [
    "fold=0\n",
    "# 5年、1年\n",
    "df_train_x = df0[df0[\"fold\"]!=fold][train_col]\n",
    "df_valid_x = df0[df0[\"fold\"]==fold][train_col]\n",
    "\n",
    "df_train_y = df0[df0[\"fold\"]!=fold][\"next water level\"]\n",
    "df_valid_y = df0[df0[\"fold\"]==fold][\"next water level\"]\n",
    "\n",
    "# validだけ変化\n",
    "print(df_train_x.shape)\n",
    "print(df_valid_x.shape)"
   ]
  },
  {
   "cell_type": "code",
   "execution_count": 7,
   "id": "35207b84-25b1-4aea-b9d3-a251cda911ca",
   "metadata": {
    "tags": []
   },
   "outputs": [
    {
     "name": "stdout",
     "output_type": "stream",
     "text": [
      "[LightGBM] [Warning] Auto-choosing row-wise multi-threading, the overhead of testing was 0.561633 seconds.\n",
      "You can set `force_row_wise=true` to remove the overhead.\n",
      "And if memory is not enough, you can set `force_col_wise=true`.\n",
      "[LightGBM] [Info] Total Bins 8139\n",
      "[LightGBM] [Info] Number of data points in the train set: 6660147, number of used features: 43\n",
      "[LightGBM] [Info] Start training from score 2.397157\n",
      "Training until validation scores don't improve for 200 rounds\n",
      "[100]\tvalid_0's rmse: 0.124161\n",
      "[200]\tvalid_0's rmse: 0.123487\n",
      "[300]\tvalid_0's rmse: 0.122902\n",
      "[400]\tvalid_0's rmse: 0.122966\n",
      "[500]\tvalid_0's rmse: 0.122991\n",
      "Early stopping, best iteration is:\n",
      "[326]\tvalid_0's rmse: 0.122843\n"
     ]
    }
   ],
   "source": [
    "import lightgbm as lgb\n",
    "\n",
    "# データセットを生成する\n",
    "lgb_train = lgb.Dataset(df_train_x, df_train_y)\n",
    "lgb_eval = lgb.Dataset(df_valid_x, df_valid_y, reference=lgb_train)\n",
    "\n",
    "# LightGBM のハイパーパラメータ\n",
    "lgbm_params = {\n",
    "    'objective': 'regression',\n",
    "    'metric':'rmse',\n",
    "    'seed': 42,\n",
    "    \n",
    "}\n",
    "\n",
    "# 上記のパラメータでモデルを学習する\n",
    "model = lgb.train(params=lgbm_params, num_boost_round = 4000, early_stopping_rounds = 200, train_set=lgb_train, valid_sets=lgb_eval, categorical_feature = categorical_col, verbose_eval = 100)"
   ]
  },
  {
   "cell_type": "code",
   "execution_count": 8,
   "id": "6028556b-b595-4aab-859c-ba38fe4c7885",
   "metadata": {
    "tags": []
   },
   "outputs": [
    {
     "name": "stdout",
     "output_type": "stream",
     "text": [
      "\n",
      "RMSE: 0.12284334738804871\n"
     ]
    }
   ],
   "source": [
    "# テストデータを予測する\n",
    "y_pred = model.predict(df_valid_x, num_iteration=model.best_iteration)\n",
    "# compute RMSE\n",
    "print('\\nRMSE:', np.sqrt(((df_valid_y-y_pred)**2).mean()))"
   ]
  },
  {
   "cell_type": "code",
   "execution_count": 9,
   "id": "8f07eeaa-7a11-4c80-b2d3-0efaa82c5be8",
   "metadata": {
    "tags": []
   },
   "outputs": [
    {
     "name": "stdout",
     "output_type": "stream",
     "text": [
      "hour_sin: 541\n",
      "hour_cos: 508\n",
      "station_c: 2432\n",
      "h-0: 212\n",
      "h-6: 73\n",
      "h-12: 98\n",
      "h-15: 83\n",
      "h-18: 97\n",
      "h-21: 121\n",
      "h-22: 159\n",
      "h-23: 500\n",
      "mean: 29\n",
      "max: 72\n",
      "min: 126\n",
      "std: 466\n",
      "nullcount: 29\n",
      "0-12mean: 10\n",
      "12-24mean: 50\n",
      "0-6mean: 17\n",
      "6-12mean: 27\n",
      "12-18mean: 35\n",
      "18-24mean: 107\n",
      "std_1d_ago: 345\n",
      "nullcount_1d_ago: 51\n",
      "0-6mean_1d_ago: 110\n",
      "6-12mean_1d_ago: 93\n",
      "12-18mean_1d_ago: 66\n",
      "18-24mean_1d_ago: 95\n",
      "std_2d_ago: 345\n",
      "nullcount_2d_ago: 42\n",
      "0-12mean_2d_ago: 177\n",
      "12-24mean_2d_ago: 49\n",
      "12-14-mean_rain: 178\n",
      "12-14-max_rain: 76\n",
      "15-17-mean_rain: 183\n",
      "15-17-max_rain: 97\n",
      "18-20-mean_rain: 190\n",
      "18-20-max_rain: 66\n",
      "21-23-mean_rain: 537\n",
      "21-23-max_rain: 224\n",
      "mean_rain: 463\n",
      "mean_1d_ago_rain: 295\n",
      "mean_2d_ago_rain: 306\n"
     ]
    }
   ],
   "source": [
    "importance = model.feature_importance()\n",
    "\n",
    "# 各特徴量の重要度を表示\n",
    "for i, val in enumerate(importance):\n",
    "    print(f\"{df_train_x.columns[i]}: {val}\")"
   ]
  },
  {
   "cell_type": "code",
   "execution_count": 10,
   "id": "25272048-6d89-4223-ab2c-cbcc400ed136",
   "metadata": {},
   "outputs": [],
   "source": [
    "import pickle\n",
    "\n",
    "file = '../model/model_20230102-2-159-fold0.pkl'\n",
    "pickle.dump(model, open(file, 'wb'))"
   ]
  },
  {
   "cell_type": "markdown",
   "id": "8cd0df4d-5a74-488e-8e06-50fb352e33f9",
   "metadata": {
    "tags": []
   },
   "source": [
    "#### k=1"
   ]
  },
  {
   "cell_type": "code",
   "execution_count": 11,
   "id": "adab7495-14c3-49fa-a1e5-4c3956f373fc",
   "metadata": {
    "tags": []
   },
   "outputs": [
    {
     "name": "stdout",
     "output_type": "stream",
     "text": [
      "(6688214, 43)\n",
      "(1398876, 43)\n"
     ]
    }
   ],
   "source": [
    "fold=1\n",
    "# 5年、1年\n",
    "df_train_x = df0[df0[\"fold\"]!=fold][train_col]\n",
    "df_valid_x = df0[df0[\"fold\"]==fold][train_col]\n",
    "\n",
    "df_train_y = df0[df0[\"fold\"]!=fold][\"next water level\"]\n",
    "df_valid_y = df0[df0[\"fold\"]==fold][\"next water level\"]\n",
    "\n",
    "# validだけ変化\n",
    "print(df_train_x.shape)\n",
    "print(df_valid_x.shape)"
   ]
  },
  {
   "cell_type": "code",
   "execution_count": 12,
   "id": "eca97a58-a39e-4064-846c-38a6c097596c",
   "metadata": {
    "tags": []
   },
   "outputs": [
    {
     "name": "stdout",
     "output_type": "stream",
     "text": [
      "[LightGBM] [Warning] Auto-choosing row-wise multi-threading, the overhead of testing was 0.508930 seconds.\n",
      "You can set `force_row_wise=true` to remove the overhead.\n",
      "And if memory is not enough, you can set `force_col_wise=true`.\n",
      "[LightGBM] [Info] Total Bins 8191\n",
      "[LightGBM] [Info] Number of data points in the train set: 6688214, number of used features: 43\n",
      "[LightGBM] [Info] Start training from score 2.391359\n",
      "Training until validation scores don't improve for 200 rounds\n",
      "[100]\tvalid_0's rmse: 0.118651\n",
      "[200]\tvalid_0's rmse: 0.118051\n",
      "[300]\tvalid_0's rmse: 0.117857\n",
      "[400]\tvalid_0's rmse: 0.117739\n",
      "[500]\tvalid_0's rmse: 0.11786\n",
      "[600]\tvalid_0's rmse: 0.117909\n",
      "Early stopping, best iteration is:\n",
      "[451]\tvalid_0's rmse: 0.117697\n"
     ]
    }
   ],
   "source": [
    "import lightgbm as lgb\n",
    "\n",
    "# データセットを生成する\n",
    "lgb_train = lgb.Dataset(df_train_x, df_train_y)\n",
    "lgb_eval = lgb.Dataset(df_valid_x, df_valid_y, reference=lgb_train)\n",
    "\n",
    "# LightGBM のハイパーパラメータ\n",
    "lgbm_params = {\n",
    "    'objective': 'regression',\n",
    "    'metric':'rmse',\n",
    "    'seed': 42,\n",
    "    \n",
    "}\n",
    "\n",
    "# 上記のパラメータでモデルを学習する\n",
    "model = lgb.train(params=lgbm_params, num_boost_round = 4000, early_stopping_rounds = 200, train_set=lgb_train, valid_sets=lgb_eval, categorical_feature = categorical_col, verbose_eval = 100)"
   ]
  },
  {
   "cell_type": "code",
   "execution_count": 13,
   "id": "fded94c0-0a7e-4e13-9eb5-dea80b7dafd6",
   "metadata": {
    "tags": []
   },
   "outputs": [
    {
     "name": "stdout",
     "output_type": "stream",
     "text": [
      "\n",
      "RMSE: 0.1176965459339264\n"
     ]
    }
   ],
   "source": [
    "# テストデータを予測する\n",
    "y_pred = model.predict(df_valid_x, num_iteration=model.best_iteration)\n",
    "# compute RMSE\n",
    "print('\\nRMSE:', np.sqrt(((df_valid_y-y_pred)**2).mean()))"
   ]
  },
  {
   "cell_type": "code",
   "execution_count": 14,
   "id": "c6f3d5fa-3f17-4575-8f9f-10e929409915",
   "metadata": {
    "collapsed": true,
    "jupyter": {
     "outputs_hidden": true
    },
    "tags": []
   },
   "outputs": [
    {
     "name": "stdout",
     "output_type": "stream",
     "text": [
      "hour_sin: 821\n",
      "hour_cos: 733\n",
      "station_c: 3244\n",
      "h-0: 244\n",
      "h-6: 110\n",
      "h-12: 204\n",
      "h-15: 119\n",
      "h-18: 143\n",
      "h-21: 181\n",
      "h-22: 197\n",
      "h-23: 615\n",
      "mean: 52\n",
      "max: 115\n",
      "min: 169\n",
      "std: 587\n",
      "nullcount: 60\n",
      "0-12mean: 35\n",
      "12-24mean: 65\n",
      "0-6mean: 49\n",
      "6-12mean: 36\n",
      "12-18mean: 59\n",
      "18-24mean: 157\n",
      "std_1d_ago: 491\n",
      "nullcount_1d_ago: 84\n",
      "0-6mean_1d_ago: 166\n",
      "6-12mean_1d_ago: 128\n",
      "12-18mean_1d_ago: 127\n",
      "18-24mean_1d_ago: 164\n",
      "std_2d_ago: 395\n",
      "nullcount_2d_ago: 68\n",
      "0-12mean_2d_ago: 244\n",
      "12-24mean_2d_ago: 84\n",
      "12-14-mean_rain: 236\n",
      "12-14-max_rain: 116\n",
      "15-17-mean_rain: 293\n",
      "15-17-max_rain: 99\n",
      "18-20-mean_rain: 269\n",
      "18-20-max_rain: 119\n",
      "21-23-mean_rain: 694\n",
      "21-23-max_rain: 270\n",
      "mean_rain: 623\n",
      "mean_1d_ago_rain: 441\n",
      "mean_2d_ago_rain: 424\n"
     ]
    }
   ],
   "source": [
    "importance = model.feature_importance()\n",
    "\n",
    "# 各特徴量の重要度を表示\n",
    "for i, val in enumerate(importance):\n",
    "    print(f\"{df_train_x.columns[i]}: {val}\")"
   ]
  },
  {
   "cell_type": "code",
   "execution_count": 15,
   "id": "03ccdd2e-33ae-454e-9165-a4ab1814b625",
   "metadata": {},
   "outputs": [],
   "source": [
    "import pickle\n",
    "\n",
    "file = '../model/model_20230102-2-159-fold1.pkl'\n",
    "pickle.dump(model, open(file, 'wb'))"
   ]
  },
  {
   "cell_type": "markdown",
   "id": "c3ca54df-3b0b-4c1e-979b-30ac41ebb1b1",
   "metadata": {
    "tags": []
   },
   "source": [
    "#### k=2"
   ]
  },
  {
   "cell_type": "code",
   "execution_count": 16,
   "id": "5304dc6c-705c-4115-ae06-0f2d83897173",
   "metadata": {
    "tags": []
   },
   "outputs": [
    {
     "name": "stdout",
     "output_type": "stream",
     "text": [
      "(6692440, 43)\n",
      "(1394650, 43)\n"
     ]
    }
   ],
   "source": [
    "fold=2\n",
    "# 5年、1年\n",
    "df_train_x = df0[df0[\"fold\"]!=fold][train_col]\n",
    "df_valid_x = df0[df0[\"fold\"]==fold][train_col]\n",
    "\n",
    "df_train_y = df0[df0[\"fold\"]!=fold][\"next water level\"]\n",
    "df_valid_y = df0[df0[\"fold\"]==fold][\"next water level\"]\n",
    "\n",
    "# validだけ変化\n",
    "print(df_train_x.shape)\n",
    "print(df_valid_x.shape)"
   ]
  },
  {
   "cell_type": "code",
   "execution_count": 17,
   "id": "0b7a1d69-6fe3-4c1b-8bdd-3dede2ea697a",
   "metadata": {
    "tags": []
   },
   "outputs": [
    {
     "name": "stdout",
     "output_type": "stream",
     "text": [
      "[LightGBM] [Warning] Auto-choosing col-wise multi-threading, the overhead of testing was 1.730416 seconds.\n",
      "You can set `force_col_wise=true` to remove the overhead.\n",
      "[LightGBM] [Info] Total Bins 8197\n",
      "[LightGBM] [Info] Number of data points in the train set: 6692440, number of used features: 43\n",
      "[LightGBM] [Info] Start training from score 2.376687\n",
      "Training until validation scores don't improve for 200 rounds\n",
      "[100]\tvalid_0's rmse: 0.111519\n",
      "[200]\tvalid_0's rmse: 0.111019\n",
      "[300]\tvalid_0's rmse: 0.110293\n",
      "[400]\tvalid_0's rmse: 0.109864\n",
      "[500]\tvalid_0's rmse: 0.109797\n",
      "[600]\tvalid_0's rmse: 0.109664\n",
      "[700]\tvalid_0's rmse: 0.109613\n",
      "[800]\tvalid_0's rmse: 0.109544\n",
      "[900]\tvalid_0's rmse: 0.109561\n",
      "[1000]\tvalid_0's rmse: 0.109501\n",
      "[1100]\tvalid_0's rmse: 0.109424\n",
      "[1200]\tvalid_0's rmse: 0.109396\n",
      "[1300]\tvalid_0's rmse: 0.109389\n",
      "[1400]\tvalid_0's rmse: 0.109274\n",
      "[1500]\tvalid_0's rmse: 0.109283\n",
      "[1600]\tvalid_0's rmse: 0.10925\n",
      "[1700]\tvalid_0's rmse: 0.109293\n",
      "Early stopping, best iteration is:\n",
      "[1555]\tvalid_0's rmse: 0.109231\n"
     ]
    }
   ],
   "source": [
    "import lightgbm as lgb\n",
    "\n",
    "# データセットを生成する\n",
    "lgb_train = lgb.Dataset(df_train_x, df_train_y)\n",
    "lgb_eval = lgb.Dataset(df_valid_x, df_valid_y, reference=lgb_train)\n",
    "\n",
    "# LightGBM のハイパーパラメータ\n",
    "lgbm_params = {\n",
    "    'objective': 'regression',\n",
    "    'metric':'rmse',\n",
    "    'seed': 42,\n",
    "    \n",
    "}\n",
    "\n",
    "# 上記のパラメータでモデルを学習する\n",
    "model = lgb.train(params=lgbm_params, num_boost_round = 4000, early_stopping_rounds = 200, train_set=lgb_train, valid_sets=lgb_eval, categorical_feature = categorical_col, verbose_eval = 100)"
   ]
  },
  {
   "cell_type": "code",
   "execution_count": 18,
   "id": "6740719c-92d3-4527-94cf-ca77aab38a03",
   "metadata": {
    "tags": []
   },
   "outputs": [
    {
     "name": "stdout",
     "output_type": "stream",
     "text": [
      "\n",
      "RMSE: 0.10923125783081729\n"
     ]
    }
   ],
   "source": [
    "# テストデータを予測する\n",
    "y_pred = model.predict(df_valid_x, num_iteration=model.best_iteration)\n",
    "# compute RMSE\n",
    "print('\\nRMSE:', np.sqrt(((df_valid_y-y_pred)**2).mean()))"
   ]
  },
  {
   "cell_type": "code",
   "execution_count": 19,
   "id": "29c28dae-b959-410e-9002-5a18fa18ec70",
   "metadata": {
    "collapsed": true,
    "jupyter": {
     "outputs_hidden": true
    },
    "tags": []
   },
   "outputs": [
    {
     "name": "stdout",
     "output_type": "stream",
     "text": [
      "hour_sin: 3312\n",
      "hour_cos: 2608\n",
      "station_c: 9162\n",
      "h-0: 1382\n",
      "h-6: 534\n",
      "h-12: 868\n",
      "h-15: 683\n",
      "h-18: 674\n",
      "h-21: 718\n",
      "h-22: 746\n",
      "h-23: 1517\n",
      "mean: 197\n",
      "max: 462\n",
      "min: 443\n",
      "std: 2439\n",
      "nullcount: 160\n",
      "0-12mean: 147\n",
      "12-24mean: 256\n",
      "0-6mean: 169\n",
      "6-12mean: 247\n",
      "12-18mean: 279\n",
      "18-24mean: 491\n",
      "std_1d_ago: 1904\n",
      "nullcount_1d_ago: 320\n",
      "0-6mean_1d_ago: 607\n",
      "6-12mean_1d_ago: 441\n",
      "12-18mean_1d_ago: 462\n",
      "18-24mean_1d_ago: 488\n",
      "std_2d_ago: 2007\n",
      "nullcount_2d_ago: 299\n",
      "0-12mean_2d_ago: 897\n",
      "12-24mean_2d_ago: 400\n",
      "12-14-mean_rain: 1171\n",
      "12-14-max_rain: 451\n",
      "15-17-mean_rain: 841\n",
      "15-17-max_rain: 417\n",
      "18-20-mean_rain: 878\n",
      "18-20-max_rain: 409\n",
      "21-23-mean_rain: 1680\n",
      "21-23-max_rain: 661\n",
      "mean_rain: 1984\n",
      "mean_1d_ago_rain: 1336\n",
      "mean_2d_ago_rain: 1503\n"
     ]
    }
   ],
   "source": [
    "importance = model.feature_importance()\n",
    "\n",
    "# 各特徴量の重要度を表示\n",
    "for i, val in enumerate(importance):\n",
    "    print(f\"{df_train_x.columns[i]}: {val}\")"
   ]
  },
  {
   "cell_type": "code",
   "execution_count": 20,
   "id": "ed700e28-61e6-4b82-be6e-b909f611803e",
   "metadata": {},
   "outputs": [],
   "source": [
    "import pickle\n",
    "\n",
    "file = '../model/model_20230102-2-159-fold2.pkl'\n",
    "pickle.dump(model, open(file, 'wb'))"
   ]
  },
  {
   "cell_type": "markdown",
   "id": "43df8469-68eb-45b2-a055-efa9ac95bc96",
   "metadata": {
    "tags": []
   },
   "source": [
    "#### k=3"
   ]
  },
  {
   "cell_type": "code",
   "execution_count": 6,
   "id": "2fb071e9-a7d1-46f9-a04f-d38b41886424",
   "metadata": {
    "tags": []
   },
   "outputs": [
    {
     "name": "stdout",
     "output_type": "stream",
     "text": [
      "(6997335, 43)\n",
      "(1089755, 43)\n"
     ]
    }
   ],
   "source": [
    "fold=3\n",
    "# 5年、1年\n",
    "df_train_x = df0[df0[\"fold\"]!=fold][train_col]\n",
    "df_valid_x = df0[df0[\"fold\"]==fold][train_col]\n",
    "\n",
    "df_train_y = df0[df0[\"fold\"]!=fold][\"next water level\"]\n",
    "df_valid_y = df0[df0[\"fold\"]==fold][\"next water level\"]\n",
    "\n",
    "# validだけ変化\n",
    "print(df_train_x.shape)\n",
    "print(df_valid_x.shape)"
   ]
  },
  {
   "cell_type": "code",
   "execution_count": 8,
   "id": "ef0b0aa4-dffb-49a0-be53-e1c4847e7e4b",
   "metadata": {
    "tags": []
   },
   "outputs": [
    {
     "name": "stdout",
     "output_type": "stream",
     "text": [
      "[LightGBM] [Warning] Auto-choosing row-wise multi-threading, the overhead of testing was 0.707797 seconds.\n",
      "You can set `force_row_wise=true` to remove the overhead.\n",
      "And if memory is not enough, you can set `force_col_wise=true`.\n",
      "[LightGBM] [Info] Total Bins 8218\n",
      "[LightGBM] [Info] Number of data points in the train set: 6997335, number of used features: 43\n",
      "[LightGBM] [Info] Start training from score 2.379709\n",
      "Training until validation scores don't improve for 300 rounds\n",
      "[100]\tvalid_0's rmse: 0.142186\n",
      "[200]\tvalid_0's rmse: 0.14134\n",
      "[300]\tvalid_0's rmse: 0.142543\n",
      "[400]\tvalid_0's rmse: 0.143595\n",
      "[500]\tvalid_0's rmse: 0.142723\n",
      "Early stopping, best iteration is:\n",
      "[250]\tvalid_0's rmse: 0.140926\n"
     ]
    }
   ],
   "source": [
    "import lightgbm as lgb\n",
    "\n",
    "# データセットを生成する\n",
    "lgb_train = lgb.Dataset(df_train_x, df_train_y)\n",
    "lgb_eval = lgb.Dataset(df_valid_x, df_valid_y, reference=lgb_train)\n",
    "\n",
    "# LightGBM のハイパーパラメータ\n",
    "lgbm_params = {\n",
    "    'objective': 'regression',\n",
    "    'metric':'rmse',\n",
    "    'seed': 42,\n",
    "    \n",
    "}\n",
    "\n",
    "# 上記のパラメータでモデルを学習する\n",
    "model = lgb.train(params=lgbm_params, num_boost_round = 4000, early_stopping_rounds = 300, train_set=lgb_train, valid_sets=lgb_eval, categorical_feature = categorical_col, verbose_eval = 100)"
   ]
  },
  {
   "cell_type": "code",
   "execution_count": 9,
   "id": "35b07f72-3278-4649-8910-796a9d6d572f",
   "metadata": {
    "tags": []
   },
   "outputs": [
    {
     "name": "stdout",
     "output_type": "stream",
     "text": [
      "\n",
      "RMSE: 0.14092633504002522\n"
     ]
    }
   ],
   "source": [
    "# テストデータを予測する\n",
    "y_pred = model.predict(df_valid_x, num_iteration=model.best_iteration)\n",
    "# compute RMSE\n",
    "print('\\nRMSE:', np.sqrt(((df_valid_y-y_pred)**2).mean()))"
   ]
  },
  {
   "cell_type": "code",
   "execution_count": 10,
   "id": "cd60c7e1-a1fa-40fe-882b-df498746f160",
   "metadata": {
    "tags": []
   },
   "outputs": [
    {
     "name": "stdout",
     "output_type": "stream",
     "text": [
      "hour_sin: 496\n",
      "hour_cos: 405\n",
      "station_c: 1686\n",
      "h-0: 137\n",
      "h-6: 53\n",
      "h-12: 81\n",
      "h-15: 57\n",
      "h-18: 71\n",
      "h-21: 103\n",
      "h-22: 119\n",
      "h-23: 458\n",
      "mean: 20\n",
      "max: 83\n",
      "min: 154\n",
      "std: 328\n",
      "nullcount: 17\n",
      "0-12mean: 10\n",
      "12-24mean: 29\n",
      "0-6mean: 18\n",
      "6-12mean: 16\n",
      "12-18mean: 15\n",
      "18-24mean: 88\n",
      "std_1d_ago: 202\n",
      "nullcount_1d_ago: 47\n",
      "0-6mean_1d_ago: 46\n",
      "6-12mean_1d_ago: 66\n",
      "12-18mean_1d_ago: 45\n",
      "18-24mean_1d_ago: 11\n",
      "std_2d_ago: 232\n",
      "nullcount_2d_ago: 49\n",
      "0-12mean_2d_ago: 102\n",
      "12-24mean_2d_ago: 37\n",
      "12-14-mean_rain: 173\n",
      "12-14-max_rain: 88\n",
      "15-17-mean_rain: 179\n",
      "15-17-max_rain: 76\n",
      "18-20-mean_rain: 202\n",
      "18-20-max_rain: 70\n",
      "21-23-mean_rain: 515\n",
      "21-23-max_rain: 169\n",
      "mean_rain: 312\n",
      "mean_1d_ago_rain: 202\n",
      "mean_2d_ago_rain: 233\n"
     ]
    }
   ],
   "source": [
    "importance = model.feature_importance()\n",
    "\n",
    "# 各特徴量の重要度を表示\n",
    "for i, val in enumerate(importance):\n",
    "    print(f\"{df_train_x.columns[i]}: {val}\")"
   ]
  },
  {
   "cell_type": "code",
   "execution_count": 11,
   "id": "16187cc4-107b-4131-a233-82758e343e63",
   "metadata": {},
   "outputs": [],
   "source": [
    "import pickle\n",
    "\n",
    "file = '../model/model_20230102-2-159-fold3.pkl'\n",
    "pickle.dump(model, open(file, 'wb'))"
   ]
  },
  {
   "cell_type": "markdown",
   "id": "7b5282ab-5faf-4e3c-936c-1c90ef5a3e61",
   "metadata": {
    "tags": []
   },
   "source": [
    "#### k=4"
   ]
  },
  {
   "cell_type": "code",
   "execution_count": 12,
   "id": "478e7819-a5ad-4cdc-9860-e991c850ec33",
   "metadata": {
    "tags": []
   },
   "outputs": [
    {
     "name": "stdout",
     "output_type": "stream",
     "text": [
      "(6698700, 43)\n",
      "(1388390, 43)\n"
     ]
    }
   ],
   "source": [
    "fold=4\n",
    "# 5年、1年\n",
    "df_train_x = df0[df0[\"fold\"]!=fold][train_col]\n",
    "df_valid_x = df0[df0[\"fold\"]==fold][train_col]\n",
    "\n",
    "df_train_y = df0[df0[\"fold\"]!=fold][\"next water level\"]\n",
    "df_valid_y = df0[df0[\"fold\"]==fold][\"next water level\"]\n",
    "\n",
    "# validだけ変化\n",
    "print(df_train_x.shape)\n",
    "print(df_valid_x.shape)"
   ]
  },
  {
   "cell_type": "code",
   "execution_count": 13,
   "id": "c406f577-12ac-4285-b65e-b6faaf8f27ee",
   "metadata": {
    "tags": []
   },
   "outputs": [
    {
     "name": "stdout",
     "output_type": "stream",
     "text": [
      "[LightGBM] [Warning] Auto-choosing row-wise multi-threading, the overhead of testing was 0.600809 seconds.\n",
      "You can set `force_row_wise=true` to remove the overhead.\n",
      "And if memory is not enough, you can set `force_col_wise=true`.\n",
      "[LightGBM] [Info] Total Bins 8198\n",
      "[LightGBM] [Info] Number of data points in the train set: 6698700, number of used features: 43\n",
      "[LightGBM] [Info] Start training from score 2.379827\n",
      "Training until validation scores don't improve for 200 rounds\n",
      "[100]\tvalid_0's rmse: 0.0991359\n",
      "[200]\tvalid_0's rmse: 0.0984829\n",
      "[300]\tvalid_0's rmse: 0.0984847\n",
      "[400]\tvalid_0's rmse: 0.0987923\n",
      "Early stopping, best iteration is:\n",
      "[292]\tvalid_0's rmse: 0.0984196\n"
     ]
    }
   ],
   "source": [
    "import lightgbm as lgb\n",
    "\n",
    "# データセットを生成する\n",
    "lgb_train = lgb.Dataset(df_train_x, df_train_y)\n",
    "lgb_eval = lgb.Dataset(df_valid_x, df_valid_y, reference=lgb_train)\n",
    "\n",
    "# LightGBM のハイパーパラメータ\n",
    "lgbm_params = {\n",
    "    'objective': 'regression',\n",
    "    'metric':'rmse',\n",
    "    'seed': 42,\n",
    "    \n",
    "}\n",
    "\n",
    "# 上記のパラメータでモデルを学習する\n",
    "model = lgb.train(params=lgbm_params, num_boost_round = 4000, early_stopping_rounds = 200, train_set=lgb_train, valid_sets=lgb_eval, categorical_feature = categorical_col, verbose_eval = 100)"
   ]
  },
  {
   "cell_type": "code",
   "execution_count": 14,
   "id": "19898398-f79e-4caa-a63c-a9a83c9aaa4a",
   "metadata": {
    "tags": []
   },
   "outputs": [
    {
     "name": "stdout",
     "output_type": "stream",
     "text": [
      "\n",
      "RMSE: 0.09841964379282693\n"
     ]
    }
   ],
   "source": [
    "# テストデータを予測する\n",
    "y_pred = model.predict(df_valid_x, num_iteration=model.best_iteration)\n",
    "# compute RMSE\n",
    "print('\\nRMSE:', np.sqrt(((df_valid_y-y_pred)**2).mean()))"
   ]
  },
  {
   "cell_type": "code",
   "execution_count": 15,
   "id": "5193d276-2d42-4516-9631-1cda1058e5e4",
   "metadata": {
    "tags": []
   },
   "outputs": [
    {
     "name": "stdout",
     "output_type": "stream",
     "text": [
      "hour_sin: 524\n",
      "hour_cos: 429\n",
      "station_c: 2100\n",
      "h-0: 175\n",
      "h-6: 70\n",
      "h-12: 90\n",
      "h-15: 60\n",
      "h-18: 67\n",
      "h-21: 110\n",
      "h-22: 84\n",
      "h-23: 492\n",
      "mean: 24\n",
      "max: 107\n",
      "min: 138\n",
      "std: 406\n",
      "nullcount: 21\n",
      "0-12mean: 10\n",
      "12-24mean: 31\n",
      "0-6mean: 12\n",
      "6-12mean: 16\n",
      "12-18mean: 26\n",
      "18-24mean: 92\n",
      "std_1d_ago: 272\n",
      "nullcount_1d_ago: 62\n",
      "0-6mean_1d_ago: 106\n",
      "6-12mean_1d_ago: 73\n",
      "12-18mean_1d_ago: 58\n",
      "18-24mean_1d_ago: 76\n",
      "std_2d_ago: 259\n",
      "nullcount_2d_ago: 49\n",
      "0-12mean_2d_ago: 114\n",
      "12-24mean_2d_ago: 32\n",
      "12-14-mean_rain: 257\n",
      "12-14-max_rain: 119\n",
      "15-17-mean_rain: 180\n",
      "15-17-max_rain: 89\n",
      "18-20-mean_rain: 217\n",
      "18-20-max_rain: 69\n",
      "21-23-mean_rain: 507\n",
      "21-23-max_rain: 185\n",
      "mean_rain: 415\n",
      "mean_1d_ago_rain: 274\n",
      "mean_2d_ago_rain: 263\n"
     ]
    }
   ],
   "source": [
    "importance = model.feature_importance()\n",
    "\n",
    "# 各特徴量の重要度を表示\n",
    "for i, val in enumerate(importance):\n",
    "    print(f\"{df_train_x.columns[i]}: {val}\")"
   ]
  },
  {
   "cell_type": "code",
   "execution_count": 16,
   "id": "396eb423-1be9-4b7a-82c3-4f6d782d69bf",
   "metadata": {},
   "outputs": [],
   "source": [
    "import pickle\n",
    "\n",
    "file = '../model/model_20230102-2-159-fold4.pkl'\n",
    "pickle.dump(model, open(file, 'wb'))"
   ]
  },
  {
   "cell_type": "code",
   "execution_count": null,
   "id": "b0286c62-ebb9-4e2f-85ab-f2f208b13b16",
   "metadata": {},
   "outputs": [],
   "source": []
  },
  {
   "cell_type": "code",
   "execution_count": null,
   "id": "744e429c-cac3-4a15-9f7d-885ce001acd0",
   "metadata": {},
   "outputs": [],
   "source": []
  },
  {
   "cell_type": "code",
   "execution_count": null,
   "id": "2b368ff7-ef2e-4150-80bd-f3e517700bf3",
   "metadata": {},
   "outputs": [],
   "source": []
  },
  {
   "cell_type": "code",
   "execution_count": null,
   "id": "99cb48f1-0c18-4ede-a9f1-9aed07a70dac",
   "metadata": {},
   "outputs": [],
   "source": []
  },
  {
   "cell_type": "markdown",
   "id": "5c0f0892-14dc-4ae5-b83e-9ffa1f1f7f9d",
   "metadata": {},
   "source": [
    "RMSE: 0.10429121969099113 => RMSE: 0.1050101947431999  \n",
    "RMSE: 0.08597841291308117 => RMSE: 0.08721021824930242   \n",
    "-----\n",
    "RMSE: 0.0990825958936637 => RMSE: 0.09879354007639315    \n",
    "RMSE: 0.08675756093517713 => RMSE: 0.08671721421971205  \n",
    "-----  \n",
    "RMSE: 0.10746136800577111 => RMSE: 0.10938408575628061  \n",
    "RMSE: 0.08676155107886897 => RMSE: 0.08615205182499786  \n",
    "-----\n",
    "RMSE: 0.09169186183425276 => RMSE: 0.09179547691883928   \n",
    "RMSE: 0.0857240846895323 => RMSE: 0.08535579774614441 "
   ]
  },
  {
   "cell_type": "code",
   "execution_count": null,
   "id": "dbf18675-516c-4feb-bfc9-86e34da5b071",
   "metadata": {},
   "outputs": [],
   "source": []
  }
 ],
 "metadata": {
  "kernelspec": {
   "display_name": "Python 3 (ipykernel)",
   "language": "python",
   "name": "python3"
  },
  "language_info": {
   "codemirror_mode": {
    "name": "ipython",
    "version": 3
   },
   "file_extension": ".py",
   "mimetype": "text/x-python",
   "name": "python",
   "nbconvert_exporter": "python",
   "pygments_lexer": "ipython3",
   "version": "3.9.13"
  }
 },
 "nbformat": 4,
 "nbformat_minor": 5
}
