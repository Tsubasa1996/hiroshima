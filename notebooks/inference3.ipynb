{
 "cells": [
  {
   "cell_type": "markdown",
   "id": "0dfb60a2-8ffa-4c7f-8d7d-24977fefc848",
   "metadata": {},
   "source": [
    "train7,8以降  \n",
    "潮位ラベルで2種類に分けて学習モデルを作成"
   ]
  },
  {
   "cell_type": "markdown",
   "id": "27d6d74e-187a-42e7-8ced-317ff8cd12ab",
   "metadata": {
    "tags": []
   },
   "source": [
    "# 4. run_testを使ったモデルの検証\n",
    "予測モデルが作成できたら本番環境を模したrun_testを使ってモデルの検証を行います。  \n",
    "run_testの操作はwindowsであればコマンドプロンプト、macであればターミナルで行います。  \n",
    "!を使うことでnotebookのセル上での実行も可能ですので、本チュートリアルではこの方法で検証を行います。  \n",
    "\n",
    "「1. 準備」より、ご自身のディレクトリ構造を再確認いただき、下記を参考に引数を設定し実行ください。  \n",
    "\n",
    "readme.mdより  \n",
    "\n",
    "引数\"--exec-path\"には実装した予測プログラム(\"predictor.py\")が存在するパス名を指定する.  \n",
    "引数\"--data-dir\"には配布された学習用データ\"train\"のパス名を指定する.  \n",
    "引数\"--start-date\"には検証用データを作成するときの最初の日にちを0以上の整数値を指定する.  \n",
    "引数\"--end-date\"には検証用データを作成するときの最後の日にちを0以上の整数値を指定する.  \n",
    "\"--start-date\"で指定した値よりも大きい値を設定すること.  "
   ]
  },
  {
   "cell_type": "code",
   "execution_count": 1,
   "id": "7ce8a60c-7d03-4d62-8c38-bc71f3c0d13b",
   "metadata": {},
   "outputs": [
    {
     "name": "stdout",
     "output_type": "stream",
     "text": [
      "\u001b[33mWARNING: Running pip as the 'root' user can result in broken permissions and conflicting behaviour with the system package manager. It is recommended to use a virtual environment instead: https://pip.pypa.io/warnings/venv\u001b[0m\u001b[33m\n",
      "\u001b[0m"
     ]
    }
   ],
   "source": [
    "!pip install lightgbm -q"
   ]
  },
  {
   "cell_type": "markdown",
   "id": "e59a6f1c-e405-4358-98f6-b2d987c8c68d",
   "metadata": {
    "jp-MarkdownHeadingCollapsed": true,
    "tags": []
   },
   "source": [
    "### 参考(現状の最高精度のモデル)\n",
    "\n",
    "```\n",
    "# 学習4年分\n",
    "# model_20221218-1.pkl\n",
    "# 提出フォルダ : 20221218-1\n",
    "\n",
    "start date: 1642, end date:2190\n",
    "Loaded the model.   \n",
    "100%|█████████████████████████████████████████| 549/549 [04:29<00:00,  2.04it/s]\n",
    "\n",
    "RMSE: 0.12515357397949056\n",
    "-----\n",
    "# 学習5年分\n",
    "# model_20221218-2.pkl\n",
    "# 提出フォルダ : 20221218-2\n",
    "\n",
    "start date: 1826, end date:2190\n",
    "Loaded the model.   \n",
    "100%|█████████████████████████████████████████| 365/365 [02:52<00:00,  2.12it/s]\n",
    "RMSE: 0.09500319006972904\n",
    "```"
   ]
  },
  {
   "cell_type": "markdown",
   "id": "06ee02cb-064d-4b3f-a074-4c2fd03a8075",
   "metadata": {
    "tags": []
   },
   "source": [
    "### train6-2 + 雨量追加"
   ]
  },
  {
   "cell_type": "markdown",
   "id": "811546ad-c836-42d8-821b-a45b0cecde97",
   "metadata": {},
   "source": [
    "提出イメージ\n",
    "```\n",
    "1. 潮位ラベルのCSVも保存する\n",
    "2. 水位(159), 水位(7)はそのまま1日ずらせば良い\n",
    "\n",
    "・水位（159)\n",
    "当日データ(3時間おき、mean,min,max,std)\n",
    "1日前(3時間おき、mean,min,max,std)\n",
    "2日前(3時間おき、mean,min,max,std)\n",
    "\n",
    "・水位(7)\n",
    "当日データ\n",
    "1日前(3時間おき,mean,min,max,std)\n",
    "2日前(3時間おき,mean,min,max,std)\n",
    "3日前(3時間おき,mean,min,max,std)\n",
    "\n",
    "雨量\n",
    "当日(12時から3時間おきのmean,max、1日の平均)\n",
    "1日前(1日の平均)\n",
    "2日前(1日の平均)\n",
    "```"
   ]
  },
  {
   "cell_type": "code",
   "execution_count": 6,
   "id": "f32cf855-351b-462e-a298-91ca434a5d1c",
   "metadata": {
    "tags": []
   },
   "outputs": [
    {
     "name": "stdout",
     "output_type": "stream",
     "text": [
      "\n",
      "start date: 1461, end date:2190\n",
      "\n",
      "Processing waterlevel data\n",
      "done\n",
      "Processing rainfall data\n",
      "done\n",
      "Processing tidelevel data\n",
      "done\n",
      "Making output data\n",
      "done\n",
      "\n",
      "Moved to /notebooks/inference-test/src\n",
      "\n",
      "Loaded the model.   \n",
      "100%|█████████████████████████████████████████| 730/730 [02:50<00:00,  4.29it/s]\n",
      "\n",
      "RMSE: 0.11479712375601998\n"
     ]
    }
   ],
   "source": [
    "# 学習4年分\n",
    "# model_20221231-4-7.pkl, model_20221231-4-159.pkl\n",
    "!python ../inference-test/run.py  --exec-path ../inference-test/src --data-dir ../data --start-date 1461 --end-date 2190"
   ]
  },
  {
   "cell_type": "code",
   "execution_count": 5,
   "id": "66a65a9d-6e17-41e9-939e-fc971baaef78",
   "metadata": {
    "tags": []
   },
   "outputs": [
    {
     "name": "stdout",
     "output_type": "stream",
     "text": [
      "\n",
      "start date: 1642, end date:2190\n",
      "\n",
      "Processing waterlevel data\n",
      "done\n",
      "Processing rainfall data\n",
      "done\n",
      "Processing tidelevel data\n",
      "done\n",
      "Making output data\n",
      "done\n",
      "\n",
      "Moved to /notebooks/inference-test/src\n",
      "\n",
      "Loaded the model.   \n",
      "100%|█████████████████████████████████████████| 549/549 [02:07<00:00,  4.30it/s]\n",
      "\n",
      "RMSE: 0.1185998215875185\n"
     ]
    }
   ],
   "source": [
    "# 学習4年分\n",
    "# model_20221231-4-7.pkl, model_20221231-4-159.pkl\n",
    "!python ../inference-test/run.py  --exec-path ../inference-test/src --data-dir ../data --start-date 1642 --end-date 2190"
   ]
  },
  {
   "cell_type": "code",
   "execution_count": 4,
   "id": "4d793b1b-5a1b-4ed0-a9b8-d866ee56f049",
   "metadata": {
    "tags": []
   },
   "outputs": [
    {
     "name": "stdout",
     "output_type": "stream",
     "text": [
      "\n",
      "start date: 1826, end date:2190\n",
      "\n",
      "Processing waterlevel data\n",
      "done\n",
      "Processing rainfall data\n",
      "done\n",
      "Processing tidelevel data\n",
      "done\n",
      "Making output data\n",
      "done\n",
      "\n",
      "Moved to /notebooks/inference-test/src\n",
      "\n",
      "Loaded the model.   \n",
      "100%|█████████████████████████████████████████| 365/365 [01:24<00:00,  4.33it/s]\n",
      "\n",
      "RMSE: 0.09198013657135466\n"
     ]
    }
   ],
   "source": [
    "# 学習4年分\n",
    "# model_20221231-4-7.pkl, model_20221231-4-159.pkl\n",
    "!python ../inference-test/run.py  --exec-path ../inference-test/src --data-dir ../data --start-date 1826 --end-date 2190"
   ]
  },
  {
   "cell_type": "code",
   "execution_count": 3,
   "id": "67709ac2-2816-4642-ae7b-4f517eed256c",
   "metadata": {
    "tags": []
   },
   "outputs": [
    {
     "name": "stdout",
     "output_type": "stream",
     "text": [
      "\n",
      "start date: 2000, end date:2190\n",
      "\n",
      "Processing waterlevel data\n",
      "done\n",
      "Processing rainfall data\n",
      "done\n",
      "Processing tidelevel data\n",
      "done\n",
      "Making output data\n",
      "done\n",
      "\n",
      "Moved to /notebooks/inference-test/src\n",
      "\n",
      "Loaded the model.   \n",
      "100%|█████████████████████████████████████████| 191/191 [00:43<00:00,  4.40it/s]\n",
      "\n",
      "RMSE: 0.11054407161333896\n"
     ]
    }
   ],
   "source": [
    "# 学習4年分\n",
    "# model_20221231-4-7.pkl, model_20221231-4-159.pkl\n",
    "!python ../inference-test/run.py  --exec-path ../inference-test/src --data-dir ../data --start-date 2000 --end-date 2190"
   ]
  },
  {
   "cell_type": "markdown",
   "id": "e5b53b8a-b3eb-4186-a130-1a807ce0379c",
   "metadata": {},
   "source": [
    "RMSE: 0.118431486380198  \n",
    "RMSE: 0.12235856981751622  \n",
    "RMSE: 0.09385707009578965  \n",
    "RMSE: 0.11256520782791041  "
   ]
  },
  {
   "cell_type": "code",
   "execution_count": 7,
   "id": "0d650084-8f74-4a22-aa5d-759e03825dbf",
   "metadata": {},
   "outputs": [
    {
     "data": {
      "text/plain": [
       "'../submit-folder/20221231-4/src'"
      ]
     },
     "execution_count": 7,
     "metadata": {},
     "output_type": "execute_result"
    }
   ],
   "source": [
    "import os\n",
    "import shutil\n",
    "\n",
    "folder_name = \"20221231-4\"\n",
    "os.mkdir(os.path.join(\"../submit-folder/\", folder_name))\n",
    "\n",
    "shutil.copytree('../inference-test/model', os.path.join(\"../submit-folder\", folder_name, \"model\"))\n",
    "shutil.copytree('../inference-test/src', os.path.join(\"../submit-folder\", folder_name, \"src\"))"
   ]
  },
  {
   "cell_type": "code",
   "execution_count": 8,
   "id": "e1ab1993-a594-4f71-bc81-528342576381",
   "metadata": {},
   "outputs": [
    {
     "data": {
      "text/plain": [
       "'/notebooks/submit-folder/Zip/20221231-4.zip'"
      ]
     },
     "execution_count": 8,
     "metadata": {},
     "output_type": "execute_result"
    }
   ],
   "source": [
    "# zip化（事前にrequirements.txtは作成の必要あり）\n",
    "shutil.make_archive(os.path.join(\"../submit-folder/Zip\", folder_name), \n",
    "                    format='zip', \n",
    "                    root_dir=os.path.join(\"../submit-folder\", folder_name)\n",
    "                    )"
   ]
  },
  {
   "cell_type": "code",
   "execution_count": null,
   "id": "f2770c0e-9180-462a-a679-0ff8040bfba6",
   "metadata": {},
   "outputs": [],
   "source": []
  },
  {
   "cell_type": "code",
   "execution_count": 3,
   "id": "0ab1f4e8-d793-4d88-aec0-1b49b6491ad4",
   "metadata": {
    "tags": []
   },
   "outputs": [
    {
     "name": "stdout",
     "output_type": "stream",
     "text": [
      "\n",
      "start date: 1826, end date:2190\n",
      "\n",
      "Processing waterlevel data\n",
      "done\n",
      "Processing rainfall data\n",
      "done\n",
      "Processing tidelevel data\n",
      "done\n",
      "Making output data\n",
      "done\n",
      "\n",
      "Moved to /notebooks/inference-test/src\n",
      "\n",
      "Loaded the model.   \n",
      "100%|█████████████████████████████████████████| 365/365 [00:43<00:00,  8.33it/s]\n",
      "\n",
      "RMSE: 0.08910422396808018\n"
     ]
    }
   ],
   "source": [
    "# 学習5年分\n",
    "# model_20221231-5-7.pkl, model_20221231-5-159.pkl\n",
    "!python ../inference-test/run.py  --exec-path ../inference-test/src --data-dir ../data --start-date 1826 --end-date 2190"
   ]
  },
  {
   "cell_type": "code",
   "execution_count": 2,
   "id": "9d68d17e-ccbb-4315-ac7f-fb1070d05ade",
   "metadata": {
    "tags": []
   },
   "outputs": [
    {
     "name": "stdout",
     "output_type": "stream",
     "text": [
      "\n",
      "start date: 2000, end date:2190\n",
      "\n",
      "Processing waterlevel data\n",
      "done\n",
      "Processing rainfall data\n",
      "done\n",
      "Processing tidelevel data\n",
      "done\n",
      "Making output data\n",
      "done\n",
      "\n",
      "Moved to /notebooks/inference-test/src\n",
      "\n",
      "Loaded the model.   \n",
      "100%|█████████████████████████████████████████| 191/191 [00:25<00:00,  7.62it/s]\n",
      "\n",
      "RMSE: 0.1083549400695543\n"
     ]
    }
   ],
   "source": [
    "# 学習5年分\n",
    "# model_20221231-5-7.pkl, model_20221231-5-159.pkl\n",
    "!python ../inference-test/run.py  --exec-path ../inference-test/src --data-dir ../data --start-date 2000 --end-date 2190"
   ]
  },
  {
   "cell_type": "markdown",
   "id": "ec3b56b7-2234-4bd5-8cbe-1227da9e5b07",
   "metadata": {},
   "source": [
    "RMSE: 0.0907416864775914  \n",
    "RMSE: 0.10951774485789874"
   ]
  },
  {
   "cell_type": "code",
   "execution_count": null,
   "id": "3453ea50-53d8-4765-826e-d8b9a3a61ea3",
   "metadata": {},
   "outputs": [],
   "source": []
  },
  {
   "cell_type": "code",
   "execution_count": 4,
   "id": "70f11ce1-a016-455b-b4f2-9122f5c0aa98",
   "metadata": {},
   "outputs": [
    {
     "data": {
      "text/plain": [
       "'../submit-folder/20221231-5/src'"
      ]
     },
     "execution_count": 4,
     "metadata": {},
     "output_type": "execute_result"
    }
   ],
   "source": [
    "import os\n",
    "import shutil\n",
    "\n",
    "folder_name = \"20221231-5\"\n",
    "os.mkdir(os.path.join(\"../submit-folder/\", folder_name))\n",
    "\n",
    "shutil.copytree('../inference-test/model', os.path.join(\"../submit-folder\", folder_name, \"model\"))\n",
    "shutil.copytree('../inference-test/src', os.path.join(\"../submit-folder\", folder_name, \"src\"))"
   ]
  },
  {
   "cell_type": "code",
   "execution_count": 6,
   "id": "989eebf0-dabe-4b1a-b0df-dbd836e5d05b",
   "metadata": {},
   "outputs": [
    {
     "data": {
      "text/plain": [
       "'/notebooks/submit-folder/Zip/20221231-5.zip'"
      ]
     },
     "execution_count": 6,
     "metadata": {},
     "output_type": "execute_result"
    }
   ],
   "source": [
    "# zip化（事前にrequirements.txtは作成の必要あり）\n",
    "shutil.make_archive(os.path.join(\"../submit-folder/Zip\", folder_name), \n",
    "                    format='zip', \n",
    "                    root_dir=os.path.join(\"../submit-folder\", folder_name)\n",
    "                    )"
   ]
  },
  {
   "cell_type": "markdown",
   "id": "dbb0cbbf-229b-4a3e-8d69-3afa6087b246",
   "metadata": {},
   "source": [
    "アンサンブル"
   ]
  },
  {
   "cell_type": "code",
   "execution_count": 8,
   "id": "915e2f5f-9045-4bcd-91b1-aab520f967c5",
   "metadata": {
    "tags": []
   },
   "outputs": [
    {
     "name": "stdout",
     "output_type": "stream",
     "text": [
      "\n",
      "start date: 1826, end date:2190\n",
      "\n",
      "Processing waterlevel data\n",
      "done\n",
      "Processing rainfall data\n",
      "done\n",
      "Processing tidelevel data\n",
      "done\n",
      "Making output data\n",
      "done\n",
      "\n",
      "Moved to /notebooks/inference-test/src\n",
      "\n",
      "Loaded the model.   \n",
      "100%|█████████████████████████████████████████| 365/365 [00:59<00:00,  6.12it/s]\n",
      "\n",
      "RMSE: 0.08867815826034137\n"
     ]
    }
   ],
   "source": [
    "# 学習4,5年分\n",
    "!python ../inference-test/run.py  --exec-path ../inference-test/src --data-dir ../data --start-date 1826 --end-date 2190"
   ]
  },
  {
   "cell_type": "code",
   "execution_count": 7,
   "id": "cdfc4b6d-6f0e-4573-8244-33083bd897b3",
   "metadata": {
    "tags": []
   },
   "outputs": [
    {
     "name": "stdout",
     "output_type": "stream",
     "text": [
      "\n",
      "start date: 2000, end date:2190\n",
      "\n",
      "Processing waterlevel data\n",
      "done\n",
      "Processing rainfall data\n",
      "done\n",
      "Processing tidelevel data\n",
      "done\n",
      "Making output data\n",
      "done\n",
      "\n",
      "Moved to /notebooks/inference-test/src\n",
      "\n",
      "Loaded the model.   \n",
      "100%|█████████████████████████████████████████| 191/191 [00:31<00:00,  6.02it/s]\n",
      "\n",
      "RMSE: 0.10750670841747019\n"
     ]
    }
   ],
   "source": [
    "# 学習4,5年分\n",
    "!python ../inference-test/run.py  --exec-path ../inference-test/src --data-dir ../data --start-date 2000 --end-date 2190"
   ]
  },
  {
   "cell_type": "markdown",
   "id": "088c6788-718f-472a-a254-f29eaf230f88",
   "metadata": {},
   "source": [
    "RMSE: 0.09062400413978547  \n",
    "RMSE: 0.10931318063291166  "
   ]
  },
  {
   "cell_type": "code",
   "execution_count": 9,
   "id": "55309868-213b-4f40-9046-815ff4ab8694",
   "metadata": {
    "tags": []
   },
   "outputs": [
    {
     "data": {
      "text/plain": [
       "'../submit-folder/20221231-6/src'"
      ]
     },
     "execution_count": 9,
     "metadata": {},
     "output_type": "execute_result"
    }
   ],
   "source": [
    "import os\n",
    "import shutil\n",
    "\n",
    "folder_name = \"20221231-6\"\n",
    "os.mkdir(os.path.join(\"../submit-folder/\", folder_name))\n",
    "\n",
    "shutil.copytree('../inference-test/model', os.path.join(\"../submit-folder\", folder_name, \"model\"))\n",
    "shutil.copytree('../inference-test/src', os.path.join(\"../submit-folder\", folder_name, \"src\"))"
   ]
  },
  {
   "cell_type": "code",
   "execution_count": 10,
   "id": "2a6b675a-7dcc-47f0-9e08-27dca5af7a30",
   "metadata": {
    "tags": []
   },
   "outputs": [
    {
     "data": {
      "text/plain": [
       "'/notebooks/submit-folder/Zip/20221231-6.zip'"
      ]
     },
     "execution_count": 10,
     "metadata": {},
     "output_type": "execute_result"
    }
   ],
   "source": [
    "# zip化（事前にrequirements.txtは作成の必要あり）\n",
    "shutil.make_archive(os.path.join(\"../submit-folder/Zip\", folder_name), \n",
    "                    format='zip', \n",
    "                    root_dir=os.path.join(\"../submit-folder\", folder_name)\n",
    "                    )"
   ]
  },
  {
   "cell_type": "code",
   "execution_count": null,
   "id": "e78254fc-f4a2-4ac9-ab52-230a27884bb5",
   "metadata": {},
   "outputs": [],
   "source": []
  },
  {
   "cell_type": "markdown",
   "id": "b86052e0-bec8-472d-9fe9-66bb2d65ef7c",
   "metadata": {},
   "source": [
    "K-fold"
   ]
  },
  {
   "cell_type": "code",
   "execution_count": 13,
   "id": "d71899ad-115d-42c7-93d9-b92d0370e4e9",
   "metadata": {
    "tags": []
   },
   "outputs": [
    {
     "name": "stdout",
     "output_type": "stream",
     "text": [
      "\n",
      "start date: 1826, end date:2190\n",
      "\n",
      "Processing waterlevel data\n",
      "done\n",
      "Processing rainfall data\n",
      "done\n",
      "Processing tidelevel data\n",
      "done\n",
      "Making output data\n",
      "done\n",
      "\n",
      "Moved to /notebooks/inference-test/src\n",
      "\n",
      "Loaded the model.   \n",
      "100%|█████████████████████████████████████████| 365/365 [01:33<00:00,  3.89it/s]\n",
      "\n",
      "RMSE: 0.0867389494985939\n"
     ]
    }
   ],
   "source": [
    "!python ../inference-test/run.py  --exec-path ../inference-test/src --data-dir ../data --start-date 1826 --end-date 2190"
   ]
  },
  {
   "cell_type": "code",
   "execution_count": 12,
   "id": "4d009e84-03b0-496e-9d0c-5e26279258fa",
   "metadata": {
    "tags": []
   },
   "outputs": [
    {
     "name": "stdout",
     "output_type": "stream",
     "text": [
      "\n",
      "start date: 2000, end date:2190\n",
      "\n",
      "Processing waterlevel data\n",
      "done\n",
      "Processing rainfall data\n",
      "done\n",
      "Processing tidelevel data\n",
      "done\n",
      "Making output data\n",
      "done\n",
      "\n",
      "Moved to /notebooks/inference-test/src\n",
      "\n",
      "Loaded the model.   \n",
      "100%|█████████████████████████████████████████| 191/191 [00:49<00:00,  3.83it/s]\n",
      "\n",
      "RMSE: 0.10545875213138957\n"
     ]
    }
   ],
   "source": [
    "!python ../inference-test/run.py  --exec-path ../inference-test/src --data-dir ../data --start-date 2000 --end-date 2190"
   ]
  },
  {
   "cell_type": "markdown",
   "id": "f7a1a152-e85b-46f2-a45a-df5c9ad23ffa",
   "metadata": {},
   "source": [
    "RMSE: 0.09062400413978547  \n",
    "RMSE: 0.10931318063291166  "
   ]
  },
  {
   "cell_type": "code",
   "execution_count": 14,
   "id": "7f4e8dbd-a273-40c4-9c1b-1c8bf071ecb6",
   "metadata": {
    "tags": []
   },
   "outputs": [
    {
     "data": {
      "text/plain": [
       "'../submit-folder/20221231-7/src'"
      ]
     },
     "execution_count": 14,
     "metadata": {},
     "output_type": "execute_result"
    }
   ],
   "source": [
    "import os\n",
    "import shutil\n",
    "\n",
    "folder_name = \"20221231-7\"\n",
    "os.mkdir(os.path.join(\"../submit-folder/\", folder_name))\n",
    "\n",
    "shutil.copytree('../inference-test/model', os.path.join(\"../submit-folder\", folder_name, \"model\"))\n",
    "shutil.copytree('../inference-test/src', os.path.join(\"../submit-folder\", folder_name, \"src\"))"
   ]
  },
  {
   "cell_type": "code",
   "execution_count": 15,
   "id": "0b1c2779-9bb5-4a54-9d8b-9aba82035f87",
   "metadata": {
    "tags": []
   },
   "outputs": [
    {
     "data": {
      "text/plain": [
       "'/notebooks/submit-folder/Zip/20221231-7.zip'"
      ]
     },
     "execution_count": 15,
     "metadata": {},
     "output_type": "execute_result"
    }
   ],
   "source": [
    "# zip化（事前にrequirements.txtは作成の必要あり）\n",
    "shutil.make_archive(os.path.join(\"../submit-folder/Zip\", folder_name), \n",
    "                    format='zip', \n",
    "                    root_dir=os.path.join(\"../submit-folder\", folder_name)\n",
    "                    )"
   ]
  },
  {
   "cell_type": "code",
   "execution_count": null,
   "id": "8175ba17-8e82-4042-adeb-e4b546f707ea",
   "metadata": {},
   "outputs": [],
   "source": []
  },
  {
   "cell_type": "markdown",
   "id": "de66ba84-aa9e-4d37-b362-9502de8d094b",
   "metadata": {},
   "source": [
    "K-fold+5年分"
   ]
  },
  {
   "cell_type": "code",
   "execution_count": 17,
   "id": "9523ca9b-622d-45ab-bff3-0c35206fbe48",
   "metadata": {
    "tags": []
   },
   "outputs": [
    {
     "name": "stdout",
     "output_type": "stream",
     "text": [
      "\n",
      "start date: 1826, end date:2190\n",
      "\n",
      "Processing waterlevel data\n",
      "done\n",
      "Processing rainfall data\n",
      "done\n",
      "Processing tidelevel data\n",
      "done\n",
      "Making output data\n",
      "done\n",
      "\n",
      "Moved to /notebooks/inference-test/src\n",
      "\n",
      "Loaded the model.   \n",
      "100%|█████████████████████████████████████████| 365/365 [01:50<00:00,  3.30it/s]\n",
      "\n",
      "RMSE: 0.08672335159133782\n"
     ]
    }
   ],
   "source": [
    "!python ../inference-test/run.py  --exec-path ../inference-test/src --data-dir ../data --start-date 1826 --end-date 2190"
   ]
  },
  {
   "cell_type": "code",
   "execution_count": 16,
   "id": "a555ee77-557c-4f55-b5af-8ad4cd4a2bf7",
   "metadata": {
    "tags": []
   },
   "outputs": [
    {
     "name": "stdout",
     "output_type": "stream",
     "text": [
      "\n",
      "start date: 2000, end date:2190\n",
      "\n",
      "Processing waterlevel data\n",
      "done\n",
      "Processing rainfall data\n",
      "done\n",
      "Processing tidelevel data\n",
      "done\n",
      "Making output data\n",
      "done\n",
      "\n",
      "Moved to /notebooks/inference-test/src\n",
      "\n",
      "Loaded the model.   \n",
      "100%|█████████████████████████████████████████| 191/191 [00:58<00:00,  3.26it/s]\n",
      "\n",
      "RMSE: 0.10549256859084247\n"
     ]
    }
   ],
   "source": [
    "!python ../inference-test/run.py  --exec-path ../inference-test/src --data-dir ../data --start-date 2000 --end-date 2190"
   ]
  },
  {
   "cell_type": "markdown",
   "id": "4600a78f-fa26-480f-87a1-4589f2df081f",
   "metadata": {},
   "source": [
    "RMSE: 0.0867389494985939  \n",
    "RMSE: 0.10545875213138957  "
   ]
  },
  {
   "cell_type": "code",
   "execution_count": 19,
   "id": "f34b7bcf-53e8-41f6-9acf-50a22c3872f6",
   "metadata": {
    "tags": []
   },
   "outputs": [
    {
     "data": {
      "text/plain": [
       "'../submit-folder/20221231-8/src'"
      ]
     },
     "execution_count": 19,
     "metadata": {},
     "output_type": "execute_result"
    }
   ],
   "source": [
    "import os\n",
    "import shutil\n",
    "\n",
    "folder_name = \"20221231-8\"\n",
    "os.mkdir(os.path.join(\"../submit-folder/\", folder_name))\n",
    "\n",
    "shutil.copytree('../inference-test/model', os.path.join(\"../submit-folder\", folder_name, \"model\"))\n",
    "shutil.copytree('../inference-test/src', os.path.join(\"../submit-folder\", folder_name, \"src\"))"
   ]
  },
  {
   "cell_type": "code",
   "execution_count": 20,
   "id": "1120a98c-af78-4cf8-ba83-3d85abb63360",
   "metadata": {
    "tags": []
   },
   "outputs": [
    {
     "data": {
      "text/plain": [
       "'/notebooks/submit-folder/Zip/20221231-8.zip'"
      ]
     },
     "execution_count": 20,
     "metadata": {},
     "output_type": "execute_result"
    }
   ],
   "source": [
    "# zip化（事前にrequirements.txtは作成の必要あり）\n",
    "shutil.make_archive(os.path.join(\"../submit-folder/Zip\", folder_name), \n",
    "                    format='zip', \n",
    "                    root_dir=os.path.join(\"../submit-folder\", folder_name)\n",
    "                    )"
   ]
  },
  {
   "cell_type": "code",
   "execution_count": null,
   "id": "3fbe31ee-f75d-4c45-86a0-3780db160ce4",
   "metadata": {},
   "outputs": [],
   "source": []
  },
  {
   "cell_type": "markdown",
   "id": "b45b595d-d98c-4534-a764-46a1e12d3b4a",
   "metadata": {
    "jp-MarkdownHeadingCollapsed": true,
    "tags": []
   },
   "source": [
    "### 雨量追加+異常値修正"
   ]
  },
  {
   "cell_type": "code",
   "execution_count": 4,
   "id": "60843da2-164f-434d-aaf9-fcbd403efd15",
   "metadata": {
    "tags": []
   },
   "outputs": [
    {
     "name": "stdout",
     "output_type": "stream",
     "text": [
      "\n",
      "start date: 1461, end date:2190\n",
      "\n",
      "Processing waterlevel data\n",
      "done\n",
      "Processing rainfall data\n",
      "done\n",
      "Processing tidelevel data\n",
      "done\n",
      "Making output data\n",
      "done\n",
      "\n",
      "Moved to /notebooks/inference-test/src\n",
      "\n",
      "Loaded the model.   \n",
      "100%|█████████████████████████████████████████| 730/730 [03:10<00:00,  3.83it/s]\n",
      "\n",
      "RMSE: 0.11494098406874739\n"
     ]
    }
   ],
   "source": [
    "# 学習4年分\n",
    "# model_20221231-4-7.pkl, model_20230101-1-159.pkl\n",
    "!python ../inference-test/run.py  --exec-path ../inference-test/src --data-dir ../data --start-date 1461 --end-date 2190"
   ]
  },
  {
   "cell_type": "code",
   "execution_count": 3,
   "id": "c50bf375-4a8f-4425-a1c5-095898bbe972",
   "metadata": {
    "tags": []
   },
   "outputs": [
    {
     "name": "stdout",
     "output_type": "stream",
     "text": [
      "\n",
      "start date: 1642, end date:2190\n",
      "\n",
      "Processing waterlevel data\n",
      "done\n",
      "Processing rainfall data\n",
      "done\n",
      "Processing tidelevel data\n",
      "done\n",
      "Making output data\n",
      "done\n",
      "\n",
      "Moved to /notebooks/inference-test/src\n",
      "\n",
      "Loaded the model.   \n",
      "100%|█████████████████████████████████████████| 549/549 [02:23<00:00,  3.81it/s]\n",
      "\n",
      "RMSE: 0.1188743886827534\n"
     ]
    }
   ],
   "source": [
    "# 学習4年分\n",
    "# model_20221231-4-7.pkl, model_20221231-4-159.pkl\n",
    "!python ../inference-test/run.py  --exec-path ../inference-test/src --data-dir ../data --start-date 1642 --end-date 2190"
   ]
  },
  {
   "cell_type": "code",
   "execution_count": 2,
   "id": "1e83a69a-bc0f-4671-8a94-9671fbeab087",
   "metadata": {
    "tags": []
   },
   "outputs": [
    {
     "name": "stdout",
     "output_type": "stream",
     "text": [
      "\n",
      "start date: 1826, end date:2190\n",
      "\n",
      "Processing waterlevel data\n",
      "done\n",
      "Processing rainfall data\n",
      "done\n",
      "Processing tidelevel data\n",
      "done\n",
      "Making output data\n",
      "done\n",
      "\n",
      "Moved to /notebooks/inference-test/src\n",
      "\n",
      "Loaded the model.   \n",
      "100%|█████████████████████████████████████████| 365/365 [01:31<00:00,  4.01it/s]\n",
      "\n",
      "RMSE: 0.09240037876064136\n"
     ]
    }
   ],
   "source": [
    "# 学習4年分\n",
    "# model_20221231-4-7.pkl, model_20221231-4-159.pkl\n",
    "!python ../inference-test/run.py  --exec-path ../inference-test/src --data-dir ../data --start-date 1826 --end-date 2190"
   ]
  },
  {
   "cell_type": "code",
   "execution_count": 1,
   "id": "8f45f505-b5f3-45e5-a50a-833ecb19f8c8",
   "metadata": {
    "tags": []
   },
   "outputs": [
    {
     "name": "stdout",
     "output_type": "stream",
     "text": [
      "\n",
      "start date: 2000, end date:2190\n",
      "\n",
      "Processing waterlevel data\n",
      "done\n",
      "Processing rainfall data\n",
      "done\n",
      "Processing tidelevel data\n",
      "done\n",
      "Making output data\n",
      "done\n",
      "\n",
      "Moved to /notebooks/inference-test/src\n",
      "\n",
      "Loaded the model.   \n",
      "100%|█████████████████████████████████████████| 191/191 [00:49<00:00,  3.83it/s]\n",
      "\n",
      "RMSE: 0.11110265952249726\n"
     ]
    }
   ],
   "source": [
    "# 学習4年分\n",
    "# model_20221231-4-7.pkl, model_20221231-4-159.pkl\n",
    "!python ../inference-test/run.py  --exec-path ../inference-test/src --data-dir ../data --start-date 2000 --end-date 2190"
   ]
  },
  {
   "cell_type": "markdown",
   "id": "68c20b4b-1db3-4c71-bb8f-7acf82c7f3fa",
   "metadata": {},
   "source": [
    "RMSE: 0.11479712375601998 => RMSE: 0.11494098406874739  \n",
    "RMSE: 0.1185998215875185 => RMSE: 0.1188743886827534  \n",
    "RMSE: 0.09198013657135466 => RMSE: 0.09240037876064136  \n",
    "RMSE: 0.11054407161333896 => RMSE: 0.11110265952249726"
   ]
  },
  {
   "cell_type": "code",
   "execution_count": 5,
   "id": "1bbba1bf-ab7b-43a5-b42d-c6b2d3c9d7bb",
   "metadata": {},
   "outputs": [
    {
     "data": {
      "text/plain": [
       "'../submit-folder/20230101-1/src'"
      ]
     },
     "execution_count": 5,
     "metadata": {},
     "output_type": "execute_result"
    }
   ],
   "source": [
    "import os\n",
    "import shutil\n",
    "\n",
    "folder_name = \"20230101-1\"\n",
    "os.mkdir(os.path.join(\"../submit-folder/\", folder_name))\n",
    "\n",
    "shutil.copytree('../inference-test/model', os.path.join(\"../submit-folder\", folder_name, \"model\"))\n",
    "shutil.copytree('../inference-test/src', os.path.join(\"../submit-folder\", folder_name, \"src\"))"
   ]
  },
  {
   "cell_type": "code",
   "execution_count": 6,
   "id": "7e23e272-2dfe-4cb5-aeb5-c4c27b13ebe3",
   "metadata": {},
   "outputs": [
    {
     "data": {
      "text/plain": [
       "'/notebooks/submit-folder/Zip/20230101-1.zip'"
      ]
     },
     "execution_count": 6,
     "metadata": {},
     "output_type": "execute_result"
    }
   ],
   "source": [
    "# zip化（事前にrequirements.txtは作成の必要あり）\n",
    "shutil.make_archive(os.path.join(\"../submit-folder/Zip\", folder_name), \n",
    "                    format='zip', \n",
    "                    root_dir=os.path.join(\"../submit-folder\", folder_name)\n",
    "                    )"
   ]
  },
  {
   "cell_type": "code",
   "execution_count": null,
   "id": "150bd89c-486b-4ad5-a277-4f3b858ae78c",
   "metadata": {},
   "outputs": [],
   "source": []
  },
  {
   "cell_type": "code",
   "execution_count": 8,
   "id": "31bf157a-45fe-471c-a6d8-92528f72ead1",
   "metadata": {
    "tags": []
   },
   "outputs": [
    {
     "name": "stdout",
     "output_type": "stream",
     "text": [
      "\n",
      "start date: 1826, end date:2190\n",
      "\n",
      "Processing waterlevel data\n",
      "done\n",
      "Processing rainfall data\n",
      "done\n",
      "Processing tidelevel data\n",
      "done\n",
      "Making output data\n",
      "done\n",
      "\n",
      "Moved to /notebooks/inference-test/src\n",
      "\n",
      "Loaded the model.   \n",
      "100%|█████████████████████████████████████████| 365/365 [01:25<00:00,  4.26it/s]\n",
      "\n",
      "RMSE: 0.08926382929186057\n"
     ]
    }
   ],
   "source": [
    "# 学習5年分\n",
    "# model_20221231-5-7.pkl, model_20230101-2-159.pkl\n",
    "!python ../inference-test/run.py  --exec-path ../inference-test/src --data-dir ../data --start-date 1826 --end-date 2190"
   ]
  },
  {
   "cell_type": "code",
   "execution_count": 7,
   "id": "04e2342c-0ff9-4a82-82b0-6b2b35a7e762",
   "metadata": {
    "tags": []
   },
   "outputs": [
    {
     "name": "stdout",
     "output_type": "stream",
     "text": [
      "\n",
      "start date: 2000, end date:2190\n",
      "\n",
      "Processing waterlevel data\n",
      "done\n",
      "Processing rainfall data\n",
      "done\n",
      "Processing tidelevel data\n",
      "done\n",
      "Making output data\n",
      "done\n",
      "\n",
      "Moved to /notebooks/inference-test/src\n",
      "\n",
      "Loaded the model.   \n",
      "100%|█████████████████████████████████████████| 191/191 [00:44<00:00,  4.33it/s]\n",
      "\n",
      "RMSE: 0.10843164994289181\n"
     ]
    }
   ],
   "source": [
    "# 学習5年分\n",
    "# model_20221231-5-7.pkl, model_20230101-2-159.pkl\n",
    "!python ../inference-test/run.py  --exec-path ../inference-test/src --data-dir ../data --start-date 2000 --end-date 2190"
   ]
  },
  {
   "cell_type": "markdown",
   "id": "a09d04b4-1781-4f56-aacf-cc868bfb05f4",
   "metadata": {},
   "source": [
    "RMSE: 0.08910422396808018 => RMSE: 0.08926382929186057  \n",
    "RMSE: 0.1083549400695543 => RMSE: 0.10843164994289181"
   ]
  },
  {
   "cell_type": "code",
   "execution_count": null,
   "id": "723223ad-7e84-42b5-bcc3-82a71d91896f",
   "metadata": {},
   "outputs": [],
   "source": []
  },
  {
   "cell_type": "code",
   "execution_count": 9,
   "id": "27a206b6-9457-485f-970b-96d3c0a2ae41",
   "metadata": {},
   "outputs": [
    {
     "data": {
      "text/plain": [
       "'../submit-folder/20230101-2/src'"
      ]
     },
     "execution_count": 9,
     "metadata": {},
     "output_type": "execute_result"
    }
   ],
   "source": [
    "import os\n",
    "import shutil\n",
    "\n",
    "folder_name = \"20230101-2\"\n",
    "os.mkdir(os.path.join(\"../submit-folder/\", folder_name))\n",
    "\n",
    "shutil.copytree('../inference-test/model', os.path.join(\"../submit-folder\", folder_name, \"model\"))\n",
    "shutil.copytree('../inference-test/src', os.path.join(\"../submit-folder\", folder_name, \"src\"))"
   ]
  },
  {
   "cell_type": "code",
   "execution_count": null,
   "id": "1abd7d22-4449-4684-9437-512fcebd26d3",
   "metadata": {},
   "outputs": [],
   "source": [
    "# zip化（事前にrequirements.txtは作成の必要あり）\n",
    "shutil.make_archive(os.path.join(\"../submit-folder/Zip\", folder_name), \n",
    "                    format='zip', \n",
    "                    root_dir=os.path.join(\"../submit-folder\", folder_name)\n",
    "                    )"
   ]
  },
  {
   "cell_type": "code",
   "execution_count": null,
   "id": "b506b652-6d57-4a73-bfff-bde3d80c4d92",
   "metadata": {},
   "outputs": [],
   "source": []
  },
  {
   "cell_type": "markdown",
   "id": "2ed02437-bb88-44dc-9c5d-32e5364f0818",
   "metadata": {},
   "source": [
    "K-fold"
   ]
  },
  {
   "cell_type": "code",
   "execution_count": 2,
   "id": "c2943dd4-8536-4625-b0d3-2960262f7f72",
   "metadata": {
    "tags": []
   },
   "outputs": [
    {
     "name": "stdout",
     "output_type": "stream",
     "text": [
      "\n",
      "start date: 1826, end date:2190\n",
      "\n",
      "Processing waterlevel data\n",
      "done\n",
      "Processing rainfall data\n",
      "done\n",
      "Processing tidelevel data\n",
      "done\n",
      "Making output data\n",
      "done\n",
      "\n",
      "Moved to /notebooks/inference-test/src\n",
      "\n",
      "Loaded the model.   \n",
      "100%|█████████████████████████████████████████| 365/365 [01:42<00:00,  3.56it/s]\n",
      "\n",
      "RMSE: 0.08678769920050255\n"
     ]
    }
   ],
   "source": [
    "!python ../inference-test/run.py  --exec-path ../inference-test/src --data-dir ../data --start-date 1826 --end-date 2190"
   ]
  },
  {
   "cell_type": "code",
   "execution_count": 1,
   "id": "a2df7fdb-1dec-42cd-9c69-5e5ef69c7c26",
   "metadata": {
    "tags": []
   },
   "outputs": [
    {
     "name": "stdout",
     "output_type": "stream",
     "text": [
      "\n",
      "start date: 2000, end date:2190\n",
      "\n",
      "Processing waterlevel data\n",
      "done\n",
      "Processing rainfall data\n",
      "done\n",
      "Processing tidelevel data\n",
      "done\n",
      "Making output data\n",
      "done\n",
      "\n",
      "Moved to /notebooks/inference-test/src\n",
      "\n",
      "Loaded the model.   \n",
      "100%|█████████████████████████████████████████| 191/191 [00:57<00:00,  3.33it/s]\n",
      "\n",
      "RMSE: 0.105360555931289\n"
     ]
    }
   ],
   "source": [
    "!python ../inference-test/run.py  --exec-path ../inference-test/src --data-dir ../data --start-date 2000 --end-date 2190"
   ]
  },
  {
   "cell_type": "markdown",
   "id": "4f9e7790-35fb-46c1-b944-54124bd74248",
   "metadata": {},
   "source": [
    "RMSE: 0.0867389494985939 => RMSE: 0.08678769920050255  \n",
    "RMSE: 0.10545875213138957 => RMSE: 0.105360555931289  "
   ]
  },
  {
   "cell_type": "code",
   "execution_count": 3,
   "id": "ff8b9e90-2c58-4835-9cbf-36b7bcbfd881",
   "metadata": {
    "tags": []
   },
   "outputs": [
    {
     "data": {
      "text/plain": [
       "'../submit-folder/20230101-3/src'"
      ]
     },
     "execution_count": 3,
     "metadata": {},
     "output_type": "execute_result"
    }
   ],
   "source": [
    "import os\n",
    "import shutil\n",
    "\n",
    "folder_name = \"20230101-3\"\n",
    "os.mkdir(os.path.join(\"../submit-folder/\", folder_name))\n",
    "\n",
    "shutil.copytree('../inference-test/model', os.path.join(\"../submit-folder\", folder_name, \"model\"))\n",
    "shutil.copytree('../inference-test/src', os.path.join(\"../submit-folder\", folder_name, \"src\"))"
   ]
  },
  {
   "cell_type": "code",
   "execution_count": 4,
   "id": "a00d4940-ef41-4e3f-bfc7-6ad5a35476fa",
   "metadata": {
    "tags": []
   },
   "outputs": [
    {
     "data": {
      "text/plain": [
       "'/notebooks/submit-folder/Zip/20230101-3.zip'"
      ]
     },
     "execution_count": 4,
     "metadata": {},
     "output_type": "execute_result"
    }
   ],
   "source": [
    "# zip化（事前にrequirements.txtは作成の必要あり）\n",
    "shutil.make_archive(os.path.join(\"../submit-folder/Zip\", folder_name), \n",
    "                    format='zip', \n",
    "                    root_dir=os.path.join(\"../submit-folder\", folder_name)\n",
    "                    )"
   ]
  },
  {
   "cell_type": "code",
   "execution_count": null,
   "id": "e37c59ce-12f5-469f-addb-52e629ac8176",
   "metadata": {},
   "outputs": [],
   "source": []
  },
  {
   "cell_type": "markdown",
   "id": "aae24d0b-7bff-41f6-9c3b-5368abcf8bcb",
   "metadata": {
    "tags": []
   },
   "source": [
    "### 雨量追加+異常値修正+特徴量修正"
   ]
  },
  {
   "cell_type": "code",
   "execution_count": 6,
   "id": "ccf3b437-ec7f-4b6a-be79-2cb415b52841",
   "metadata": {
    "tags": []
   },
   "outputs": [
    {
     "name": "stdout",
     "output_type": "stream",
     "text": [
      "\n",
      "start date: 1461, end date:2190\n",
      "\n",
      "Processing waterlevel data\n",
      "done\n",
      "Processing rainfall data\n",
      "done\n",
      "Processing tidelevel data\n",
      "done\n",
      "Making output data\n",
      "done\n",
      "\n",
      "Moved to /notebooks/inference-test/src\n",
      "\n",
      "Loaded the model.   \n",
      "100%|█████████████████████████████████████████| 730/730 [01:56<00:00,  6.26it/s]\n",
      "\n",
      "RMSE: 0.11406863737696844\n"
     ]
    }
   ],
   "source": [
    "# 学習4年分\n",
    "# model_20230102-1-7.pkl, model_20230102-1-159.pkl\n",
    "!python ../inference-test/run.py  --exec-path ../inference-test/src --data-dir ../data --start-date 1461 --end-date 2190"
   ]
  },
  {
   "cell_type": "code",
   "execution_count": 5,
   "id": "02feca64-5da4-4ab1-b1f2-52e435d7c18b",
   "metadata": {
    "tags": []
   },
   "outputs": [
    {
     "name": "stdout",
     "output_type": "stream",
     "text": [
      "\n",
      "start date: 1642, end date:2190\n",
      "\n",
      "Processing waterlevel data\n",
      "done\n",
      "Processing rainfall data\n",
      "done\n",
      "Processing tidelevel data\n",
      "done\n",
      "Making output data\n",
      "done\n",
      "\n",
      "Moved to /notebooks/inference-test/src\n",
      "\n",
      "Loaded the model.   \n",
      "100%|█████████████████████████████████████████| 549/549 [01:28<00:00,  6.24it/s]\n",
      "\n",
      "RMSE: 0.11798032749953155\n"
     ]
    }
   ],
   "source": [
    "# 学習4年分\n",
    "# model_20230102-1-7.pkl, model_20230102-1-159.pkl\n",
    "!python ../inference-test/run.py  --exec-path ../inference-test/src --data-dir ../data --start-date 1642 --end-date 2190"
   ]
  },
  {
   "cell_type": "code",
   "execution_count": 4,
   "id": "b1e16722-c291-48f9-a065-8fe9e7c71350",
   "metadata": {
    "tags": []
   },
   "outputs": [
    {
     "name": "stdout",
     "output_type": "stream",
     "text": [
      "\n",
      "start date: 1826, end date:2190\n",
      "\n",
      "Processing waterlevel data\n",
      "done\n",
      "Processing rainfall data\n",
      "done\n",
      "Processing tidelevel data\n",
      "done\n",
      "Making output data\n",
      "done\n",
      "\n",
      "Moved to /notebooks/inference-test/src\n",
      "\n",
      "Loaded the model.   \n",
      "100%|█████████████████████████████████████████| 365/365 [00:59<00:00,  6.18it/s]\n",
      "\n",
      "RMSE: 0.09155994452911816\n"
     ]
    }
   ],
   "source": [
    "# 学習4年分\n",
    "# model_20230102-1-7.pkl, model_20230102-1-159.pkl\n",
    "!python ../inference-test/run.py  --exec-path ../inference-test/src --data-dir ../data --start-date 1826 --end-date 2190"
   ]
  },
  {
   "cell_type": "code",
   "execution_count": 3,
   "id": "1585bbb3-f34e-4c96-9d77-28825890b220",
   "metadata": {
    "tags": []
   },
   "outputs": [
    {
     "name": "stdout",
     "output_type": "stream",
     "text": [
      "\n",
      "start date: 2000, end date:2190\n",
      "\n",
      "Processing waterlevel data\n",
      "done\n",
      "Processing rainfall data\n",
      "done\n",
      "Processing tidelevel data\n",
      "done\n",
      "Making output data\n",
      "done\n",
      "\n",
      "Moved to /notebooks/inference-test/src\n",
      "\n",
      "Loaded the model.   \n",
      "100%|█████████████████████████████████████████| 191/191 [00:30<00:00,  6.37it/s]\n",
      "\n",
      "RMSE: 0.1103292719411507\n"
     ]
    }
   ],
   "source": [
    "# 学習4年分\n",
    "# model_20230102-1-7.pkl, model_20230102-1-159.pkl\n",
    "!python ../inference-test/run.py  --exec-path ../inference-test/src --data-dir ../data --start-date 2000 --end-date 2190"
   ]
  },
  {
   "cell_type": "markdown",
   "id": "5cb620ac-9e9a-4904-9de0-3178cf9bc6b1",
   "metadata": {},
   "source": [
    "RMSE: 0.11494098406874739 => RMSE: 0.11406863737696844  \n",
    "RMSE: 0.1188743886827534 => RMSE: 0.11798032749953155  \n",
    "RMSE: 0.09240037876064136 => RMSE: 0.09155994452911816  \n",
    "RMSE: 0.11110265952249726 => RMSE: 0.1103292719411507"
   ]
  },
  {
   "cell_type": "code",
   "execution_count": 7,
   "id": "6c7d7c9c-d213-4bc6-8c63-f2d409acabdc",
   "metadata": {},
   "outputs": [
    {
     "data": {
      "text/plain": [
       "'../submit-folder/20230102-1/src'"
      ]
     },
     "execution_count": 7,
     "metadata": {},
     "output_type": "execute_result"
    }
   ],
   "source": [
    "import os\n",
    "import shutil\n",
    "\n",
    "folder_name = \"20230102-1\"\n",
    "os.mkdir(os.path.join(\"../submit-folder/\", folder_name))\n",
    "\n",
    "shutil.copytree('../inference-test/model', os.path.join(\"../submit-folder\", folder_name, \"model\"))\n",
    "shutil.copytree('../inference-test/src', os.path.join(\"../submit-folder\", folder_name, \"src\"))"
   ]
  },
  {
   "cell_type": "code",
   "execution_count": 8,
   "id": "ea9fca0d-6ca7-4009-897a-7d5babe6db54",
   "metadata": {},
   "outputs": [
    {
     "data": {
      "text/plain": [
       "'/notebooks/submit-folder/Zip/20230102-1.zip'"
      ]
     },
     "execution_count": 8,
     "metadata": {},
     "output_type": "execute_result"
    }
   ],
   "source": [
    "# zip化（事前にrequirements.txtは作成の必要あり）\n",
    "shutil.make_archive(os.path.join(\"../submit-folder/Zip\", folder_name), \n",
    "                    format='zip', \n",
    "                    root_dir=os.path.join(\"../submit-folder\", folder_name)\n",
    "                    )"
   ]
  },
  {
   "cell_type": "code",
   "execution_count": null,
   "id": "26ddda2d-1257-4a93-9755-3ad7168064de",
   "metadata": {},
   "outputs": [],
   "source": []
  },
  {
   "cell_type": "code",
   "execution_count": 2,
   "id": "9cdc9ac7-48d9-4115-8c08-b58199153cf8",
   "metadata": {
    "tags": []
   },
   "outputs": [
    {
     "name": "stdout",
     "output_type": "stream",
     "text": [
      "\n",
      "start date: 1826, end date:2190\n",
      "\n",
      "Processing waterlevel data\n",
      "done\n",
      "Processing rainfall data\n",
      "done\n",
      "Processing tidelevel data\n",
      "done\n",
      "Making output data\n",
      "done\n",
      "\n",
      "Moved to /notebooks/inference-test/src\n",
      "\n",
      "Loaded the model.   \n",
      "100%|█████████████████████████████████████████| 365/365 [01:03<00:00,  5.76it/s]\n",
      "\n",
      "RMSE: 0.08855459691798707\n"
     ]
    }
   ],
   "source": [
    "# 学習5年分\n",
    "# model_20221231-5-7.pkl, model_20230101-2-159.pkl\n",
    "!python ../inference-test/run.py  --exec-path ../inference-test/src --data-dir ../data --start-date 1826 --end-date 2190"
   ]
  },
  {
   "cell_type": "code",
   "execution_count": 1,
   "id": "6f255c18-163f-4126-9fef-a9d39df671f0",
   "metadata": {
    "tags": []
   },
   "outputs": [
    {
     "name": "stdout",
     "output_type": "stream",
     "text": [
      "\n",
      "start date: 2000, end date:2190\n",
      "\n",
      "Processing waterlevel data\n",
      "done\n",
      "Processing rainfall data\n",
      "done\n",
      "Processing tidelevel data\n",
      "done\n",
      "Making output data\n",
      "done\n",
      "\n",
      "Moved to /notebooks/inference-test/src\n",
      "\n",
      "Loaded the model.   \n",
      "100%|█████████████████████████████████████████| 191/191 [00:33<00:00,  5.70it/s]\n",
      "\n",
      "RMSE: 0.10769903146897099\n"
     ]
    }
   ],
   "source": [
    "# 学習5年分\n",
    "# model_20221231-5-7.pkl, model_20230101-2-159.pkl\n",
    "!python ../inference-test/run.py  --exec-path ../inference-test/src --data-dir ../data --start-date 2000 --end-date 2190"
   ]
  },
  {
   "cell_type": "markdown",
   "id": "a912cea8-abe5-4da4-86a1-1c1b8ab49cc5",
   "metadata": {},
   "source": [
    "RMSE: 0.08926382929186057 => RMSE: 0.08855459691798707  \n",
    "RMSE: 0.10843164994289181 => RMSE: 0.10769903146897099"
   ]
  },
  {
   "cell_type": "code",
   "execution_count": null,
   "id": "1280996f-2528-47c0-9c10-2a540215f02f",
   "metadata": {},
   "outputs": [],
   "source": []
  },
  {
   "cell_type": "code",
   "execution_count": 3,
   "id": "e481393a-f49a-41a8-a929-1ee7c9c2caf0",
   "metadata": {},
   "outputs": [
    {
     "data": {
      "text/plain": [
       "'../submit-folder/20230102-2/src'"
      ]
     },
     "execution_count": 3,
     "metadata": {},
     "output_type": "execute_result"
    }
   ],
   "source": [
    "import os\n",
    "import shutil\n",
    "\n",
    "folder_name = \"20230102-2\"\n",
    "os.mkdir(os.path.join(\"../submit-folder/\", folder_name))\n",
    "\n",
    "shutil.copytree('../inference-test/model', os.path.join(\"../submit-folder\", folder_name, \"model\"))\n",
    "shutil.copytree('../inference-test/src', os.path.join(\"../submit-folder\", folder_name, \"src\"))"
   ]
  },
  {
   "cell_type": "code",
   "execution_count": 5,
   "id": "504e4a13-f0cb-4525-84ff-8a4a9e57e6cd",
   "metadata": {},
   "outputs": [
    {
     "data": {
      "text/plain": [
       "'/notebooks/submit-folder/Zip/20230102-2.zip'"
      ]
     },
     "execution_count": 5,
     "metadata": {},
     "output_type": "execute_result"
    }
   ],
   "source": [
    "# zip化（事前にrequirements.txtは作成の必要あり）\n",
    "shutil.make_archive(os.path.join(\"../submit-folder/Zip\", folder_name), \n",
    "                    format='zip', \n",
    "                    root_dir=os.path.join(\"../submit-folder\", folder_name)\n",
    "                    )"
   ]
  },
  {
   "cell_type": "code",
   "execution_count": null,
   "id": "94c6d4ec-aa5e-451f-9d3d-ac67ed083aea",
   "metadata": {},
   "outputs": [],
   "source": []
  },
  {
   "cell_type": "markdown",
   "id": "f8b9b564-bbdc-479c-993d-95faf6c8e38f",
   "metadata": {},
   "source": [
    "K-fold"
   ]
  },
  {
   "cell_type": "code",
   "execution_count": 9,
   "id": "edac0d39-a67c-474f-a694-41d7c4d634e3",
   "metadata": {
    "tags": []
   },
   "outputs": [
    {
     "name": "stdout",
     "output_type": "stream",
     "text": [
      "\n",
      "start date: 1826, end date:2190\n",
      "\n",
      "Processing waterlevel data\n",
      "done\n",
      "Processing rainfall data\n",
      "done\n",
      "Processing tidelevel data\n",
      "done\n",
      "Making output data\n",
      "done\n",
      "\n",
      "Moved to /notebooks/inference-test/src\n",
      "\n",
      "Loaded the model.   \n",
      "100%|█████████████████████████████████████████| 365/365 [02:45<00:00,  2.20it/s]\n",
      "\n",
      "RMSE: 0.08621839016903075\n"
     ]
    }
   ],
   "source": [
    "!python ../inference-test/run.py  --exec-path ../inference-test/src --data-dir ../data --start-date 1826 --end-date 2190"
   ]
  },
  {
   "cell_type": "code",
   "execution_count": 8,
   "id": "114bcea7-fdba-4877-b62b-29129b531bda",
   "metadata": {
    "tags": []
   },
   "outputs": [
    {
     "name": "stdout",
     "output_type": "stream",
     "text": [
      "\n",
      "start date: 2000, end date:2190\n",
      "\n",
      "Processing waterlevel data\n",
      "done\n",
      "Processing rainfall data\n",
      "done\n",
      "Processing tidelevel data\n",
      "done\n",
      "Making output data\n",
      "done\n",
      "\n",
      "Moved to /notebooks/inference-test/src\n",
      "\n",
      "Loaded the model.   \n",
      "100%|█████████████████████████████████████████| 191/191 [01:28<00:00,  2.15it/s]\n",
      "\n",
      "RMSE: 0.10497401842371405\n"
     ]
    }
   ],
   "source": [
    "!python ../inference-test/run.py  --exec-path ../inference-test/src --data-dir ../data --start-date 2000 --end-date 2190"
   ]
  },
  {
   "cell_type": "markdown",
   "id": "8e729101-6ba4-4243-b64f-59c1995ef1ae",
   "metadata": {},
   "source": [
    "RMSE: 0.08678769920050255 => RMSE: 0.08621839016903075     \n",
    "RMSE: 0.105360555931289 => RMSE: 0.10497401842371405  "
   ]
  },
  {
   "cell_type": "code",
   "execution_count": 10,
   "id": "56b0dc70-9f29-4b0d-9a1f-0d254691fb0a",
   "metadata": {
    "tags": []
   },
   "outputs": [
    {
     "data": {
      "text/plain": [
       "'../submit-folder/20230102-3/src'"
      ]
     },
     "execution_count": 10,
     "metadata": {},
     "output_type": "execute_result"
    }
   ],
   "source": [
    "import os\n",
    "import shutil\n",
    "\n",
    "folder_name = \"20230102-3\"\n",
    "os.mkdir(os.path.join(\"../submit-folder/\", folder_name))\n",
    "\n",
    "shutil.copytree('../inference-test/model', os.path.join(\"../submit-folder\", folder_name, \"model\"))\n",
    "shutil.copytree('../inference-test/src', os.path.join(\"../submit-folder\", folder_name, \"src\"))"
   ]
  },
  {
   "cell_type": "code",
   "execution_count": 11,
   "id": "cd0ada62-36bd-4cd9-b891-2b1705994fca",
   "metadata": {
    "tags": []
   },
   "outputs": [
    {
     "data": {
      "text/plain": [
       "'/notebooks/submit-folder/Zip/20230102-3.zip'"
      ]
     },
     "execution_count": 11,
     "metadata": {},
     "output_type": "execute_result"
    }
   ],
   "source": [
    "# zip化（事前にrequirements.txtは作成の必要あり）\n",
    "shutil.make_archive(os.path.join(\"../submit-folder/Zip\", folder_name), \n",
    "                    format='zip', \n",
    "                    root_dir=os.path.join(\"../submit-folder\", folder_name)\n",
    "                    )"
   ]
  },
  {
   "cell_type": "code",
   "execution_count": null,
   "id": "67bbeb54-13b9-4aac-90a0-4651b7512362",
   "metadata": {},
   "outputs": [],
   "source": []
  },
  {
   "cell_type": "markdown",
   "id": "9d3681e8-6ce7-46e6-84e4-1969618d3fe0",
   "metadata": {},
   "source": [
    "K-fold(6年分)"
   ]
  },
  {
   "cell_type": "code",
   "execution_count": 13,
   "id": "02ea51ff-5dff-496a-8786-e57854c2da1f",
   "metadata": {
    "tags": []
   },
   "outputs": [
    {
     "name": "stdout",
     "output_type": "stream",
     "text": [
      "\n",
      "start date: 1826, end date:2190\n",
      "\n",
      "Processing waterlevel data\n",
      "done\n",
      "Processing rainfall data\n",
      "done\n",
      "Processing tidelevel data\n",
      "done\n",
      "Making output data\n",
      "done\n",
      "\n",
      "Moved to /notebooks/inference-test/src\n",
      "\n",
      "Loaded the model.   \n",
      "100%|█████████████████████████████████████████| 365/365 [02:54<00:00,  2.09it/s]\n",
      "\n",
      "RMSE: 0.06925087013686951\n"
     ]
    }
   ],
   "source": [
    "!python ../inference-test/run.py  --exec-path ../inference-test/src --data-dir ../data --start-date 1826 --end-date 2190"
   ]
  },
  {
   "cell_type": "code",
   "execution_count": 12,
   "id": "d0a3a088-6645-4bfb-b984-ef5918408974",
   "metadata": {
    "tags": []
   },
   "outputs": [
    {
     "name": "stdout",
     "output_type": "stream",
     "text": [
      "\n",
      "start date: 2000, end date:2190\n",
      "\n",
      "Processing waterlevel data\n",
      "done\n",
      "Processing rainfall data\n",
      "done\n",
      "Processing tidelevel data\n",
      "done\n",
      "Making output data\n",
      "done\n",
      "\n",
      "Moved to /notebooks/inference-test/src\n",
      "\n",
      "Loaded the model.   \n",
      "100%|█████████████████████████████████████████| 191/191 [01:33<00:00,  2.05it/s]\n",
      "\n",
      "RMSE: 0.0817916082982326\n"
     ]
    }
   ],
   "source": [
    "!python ../inference-test/run.py  --exec-path ../inference-test/src --data-dir ../data --start-date 2000 --end-date 2190"
   ]
  },
  {
   "cell_type": "code",
   "execution_count": 14,
   "id": "685521b8-feba-4d4d-85f5-694eca8bc082",
   "metadata": {
    "tags": []
   },
   "outputs": [
    {
     "data": {
      "text/plain": [
       "'../submit-folder/20230102-4/src'"
      ]
     },
     "execution_count": 14,
     "metadata": {},
     "output_type": "execute_result"
    }
   ],
   "source": [
    "import os\n",
    "import shutil\n",
    "\n",
    "folder_name = \"20230102-4\"\n",
    "os.mkdir(os.path.join(\"../submit-folder/\", folder_name))\n",
    "\n",
    "shutil.copytree('../inference-test/model', os.path.join(\"../submit-folder\", folder_name, \"model\"))\n",
    "shutil.copytree('../inference-test/src', os.path.join(\"../submit-folder\", folder_name, \"src\"))"
   ]
  },
  {
   "cell_type": "code",
   "execution_count": 15,
   "id": "3ac9eb3a-d3cd-4075-8d23-6ebe44f3a0fa",
   "metadata": {
    "tags": []
   },
   "outputs": [
    {
     "data": {
      "text/plain": [
       "'/notebooks/submit-folder/Zip/20230102-4.zip'"
      ]
     },
     "execution_count": 15,
     "metadata": {},
     "output_type": "execute_result"
    }
   ],
   "source": [
    "# zip化（事前にrequirements.txtは作成の必要あり）\n",
    "shutil.make_archive(os.path.join(\"../submit-folder/Zip\", folder_name), \n",
    "                    format='zip', \n",
    "                    root_dir=os.path.join(\"../submit-folder\", folder_name)\n",
    "                    )"
   ]
  },
  {
   "cell_type": "code",
   "execution_count": null,
   "id": "ddf3fa27-0283-49a5-8e03-40434342707f",
   "metadata": {},
   "outputs": [],
   "source": []
  }
 ],
 "metadata": {
  "kernelspec": {
   "display_name": "Python 3 (ipykernel)",
   "language": "python",
   "name": "python3"
  },
  "language_info": {
   "codemirror_mode": {
    "name": "ipython",
    "version": 3
   },
   "file_extension": ".py",
   "mimetype": "text/x-python",
   "name": "python",
   "nbconvert_exporter": "python",
   "pygments_lexer": "ipython3",
   "version": "3.9.13"
  }
 },
 "nbformat": 4,
 "nbformat_minor": 5
}
